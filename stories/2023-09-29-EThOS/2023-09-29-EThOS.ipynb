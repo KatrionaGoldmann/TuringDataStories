{
 "cells": [
  {
   "cell_type": "markdown",
   "metadata": {},
   "source": [
    "---\n",
    "abstract: Using the British Libraries collection of UK PhD thesis metadata, we explore the evolution of research topics and the relationship between disciplines over time. \n",
    "author:\n",
    "- name: Ryan Chan\n",
    "  url: https://www.turing.ac.uk/people/research-engineering/ryan-chan\n",
    "  affiliation: \n",
    "  - id: ati\n",
    "    name: The Alan Turing Institute\n",
    "    city: London\n",
    "    url: www.turing.ac.uk\n",
    "- name: Isabel Fenton\n",
    "  url: https://www.turing.ac.uk/people/researchers/isabel-fenton\n",
    "  affiliation: \n",
    "  - ref: ati\n",
    "- name: Katriona Goldmann\n",
    "  url: https://www.turing.ac.uk/people/research-engineering/kat-goldmann\n",
    "  affiliation: \n",
    "  - ref: ati\n",
    "date: 'TBC'\n",
    "keywords:\n",
    "- data exploration\n",
    "- data wrangling\n",
    "- data visualisation\n",
    "- natural language processing\n",
    "license: CC BY\n",
    "reviewers:\n",
    "- name: TBC\n",
    "- name: TBC\n",
    "title: Beyond Titles: A Data-Driven Odyssey into UK PhD Theses\n",
    "---"
   ]
  },
  {
   "cell_type": "markdown",
   "metadata": {},
   "source": [
    "### reviewers:\n",
    "- name: TBC\n",
    "- name: TBC"
   ]
  },
  {
   "cell_type": "markdown",
   "metadata": {},
   "source": [
    "# Introduction \n",
    "\n",
    "The British Library, as the national library of the UK, holds a vast collection of books, manuscripts, and digital resources, acting as a crucial research hub and guardian of the country's cultural and intellectual heritage. \n",
    "One noteworthy digital asset, the [Electronic Theses Online Service](https://ethos.bl.uk) dataset (EThOS), serves as a digital repository, housing comprehensive metadata of PhD theses from UK institutions since the 1700s. \n",
    "It provides a wealth of information, including names, dates, titles, abstracts, and subjects.\n",
    "\n",
    "In this Turing Data Story we delve into the British Libraries EThOS dataset, deciphering the evolution of disciplines, and exploring the ever-changing landscape of academic pursuit. We also perform a natural language processing (NLP) analysis of thesis abstracts, uncovering the most common words and topics."
   ]
  },
  {
   "cell_type": "markdown",
   "metadata": {},
   "source": [
    "## Table of Contents\n",
    "\n",
    "* [Data description](#data-description)\n",
    "* [Historical Trends](#historical-trends)\n",
    "* [Topic modelling](#topic-modelling)\n",
    "* [Conclusions](#conclusions)"
   ]
  },
  {
   "cell_type": "markdown",
   "metadata": {},
   "source": [
    "# Data description"
   ]
  },
  {
   "cell_type": "markdown",
   "metadata": {},
   "source": [
    "Before we get to actual work, in the below cell we import all the Python modules we will need in the course of this story, and set a couple of global constants related to e.g. plotting. \n",
    "To install these packages locally run `pip install -r requirements.txt`.  "
   ]
  },
  {
   "cell_type": "code",
   "execution_count": null,
   "metadata": {},
   "outputs": [],
   "source": [
    "import pandas as pd\n",
    "import numpy as np\n",
    "import matplotlib.pyplot as plt\n",
    "import seaborn as sns\n",
    "\n",
    "# For pretty and exportable matplotlib plots.\n",
    "%matplotlib inline\n",
    "\n",
    "# Set a consistent plotting style across the notebook using Seaborn.\n",
    "sns.set_style(\"darkgrid\")\n",
    "sns.set_context(\"notebook\")"
   ]
  },
  {
   "cell_type": "markdown",
   "metadata": {},
   "source": [
    "The data is available for download from the [British Library](https://data.bl.uk/ethos/).\n",
    "\n",
    "Quoting their website,\n",
    "\n",
    ">The EThOS dataset lists virtually all UK doctoral theses ever awarded, some 500,000 dating back to 1787. All UK HE institutions are included, but we estimate records are missing for around 10,000 titles (2%).\n",
    "\n",
    "At the time of writing, the latest version of the dataset is from April 2023. The data includes the title, year, author, and institution for each thesis, as well as a link to a full record which may or may not include things like keywords or access to full texts.\n",
    "\n",
    "For the purposes of this story, we have preprocessed the data in another notebook, which you can find [here](). \n",
    "The preprocessed data is available in the `Data` folder of this repository.\n",
    "\n",
    "We will start by loading this is a Pandas dataframe, and taking a look at the first few rows."
   ]
  },
  {
   "cell_type": "code",
   "execution_count": null,
   "metadata": {},
   "outputs": [],
   "source": [
    "datafile = './Data/cleaned_EThOS_CSV_202304.csv'\n",
    "df = pd.read_csv(datafile)\n",
    "\n",
    "df.head()"
   ]
  },
  {
   "cell_type": "markdown",
   "metadata": {},
   "source": [
    "The first observation to make is that the data is remarkably clean. There are a few NaNs that we need to drop:"
   ]
  },
  {
   "cell_type": "code",
   "execution_count": null,
   "metadata": {},
   "outputs": [],
   "source": [
    "print(\"Number of rows with NaNs: {}\".format(df.isnull().any(axis=1).sum()))\n",
    "df = df.dropna()"
   ]
  },
  {
   "cell_type": "markdown",
   "metadata": {},
   "source": [
    "This repository is designed to hold doctoral theses. So we can inspect the qualifications column to the different types of degree and whether there are any other qualifications in the dataset."
   ]
  },
  {
   "cell_type": "code",
   "execution_count": null,
   "metadata": {},
   "outputs": [],
   "source": [
    "df['Qualification'].value_counts()\n",
    "\n",
    "# rremove rows which do not contain 'D.'\n",
    "df2 = df[~df['Qualification'].str.contains('D.|d.')]\n",
    "df2['Qualification'].value_counts()"
   ]
  },
  {
   "cell_type": "code",
   "execution_count": null,
   "metadata": {},
   "outputs": [],
   "source": []
  },
  {
   "cell_type": "markdown",
   "metadata": {},
   "source": [
    "# Historical Trends"
   ]
  },
  {
   "cell_type": "markdown",
   "metadata": {},
   "source": [
    "# Topic modelling"
   ]
  },
  {
   "cell_type": "markdown",
   "metadata": {},
   "source": [
    "# Conclusions"
   ]
  }
 ],
 "metadata": {
  "kernelspec": {
   "display_name": "base",
   "language": "python",
   "name": "python3"
  },
  "language_info": {
   "codemirror_mode": {
    "name": "ipython",
    "version": 3
   },
   "file_extension": ".py",
   "mimetype": "text/x-python",
   "name": "python",
   "nbconvert_exporter": "python",
   "pygments_lexer": "ipython3",
   "version": "3.9.13"
  }
 },
 "nbformat": 4,
 "nbformat_minor": 2
}
