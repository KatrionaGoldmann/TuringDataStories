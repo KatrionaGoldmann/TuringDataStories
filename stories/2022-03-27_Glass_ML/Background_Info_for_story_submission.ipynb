{
 "cells": [
  {
   "cell_type": "markdown",
   "id": "5a57394d",
   "metadata": {},
   "source": [
    "## Story description <br>\n",
    "I have two 20th century glass fragments that I submitted to a lab for analysis of their elemental composition. The first fragment is part of the base of a cosmetic ointment pot. It was collected in 2010 from the island of Nikumaroro and is datable to the 1930s. This ointment pot [may possibly have belonged to aviation pioneer Amelia Earhart](https://www.nbcnews.com/id/wbna47623025). The second fragment was purchased from eBay as a reference sample to the first.\n",
    "\n",
    "I have located a 1987 United Kingdom database of glass samples. This database was used to train an early machine learning model to help categorize glass fragments from crime scenes, such as break-ins.\n",
    "\n",
    "There are two main research questions I wished to answer:\n",
    "\n",
    "1) What do the correlations between elements for the different types of glass in the 1987 database reveal about late 20th century glassmaking, as compared with early 20th century glassmaking techniques?<br>\n",
    "2) Using machine learning to train a model on the 1987 database, can that model be used to identify one or both of the older samples unseen by the model as containers?\n",
    "\n",
    "## Which datasets will you be using in this Turing Data Story?<br>\n",
    "This analysis uses a U.K. database of glass samples from 1987 developed by Ian W. Evett and Ernest J. Spiehler. Their paper, first presented at the 1987 conference of the KBS (Knowledge-Based Systems) in Goverment, is:\n",
    "Evett, Ian W. and Spiehler, E. J., [\"Rule Induction in Forensic Science.\"](http://gpbib.cs.ucl.ac.uk/gp-html/evett_1987_rifs.html)\n",
    "The database is available at the University of California Machine Learning Repository [here](http://archive.ics.uci.edu/ml/datasets/Glass+Identification).\n",
    "\n",
    "## Additional context\n",
    "I and a group of my colleagues wrote a [paper](https://www.academia.edu/40823470/A_Freckle_In_Time_or_a_Fly_in_the_Ointment) on the jar in 2013. We stated that the jar had an unusual chemistry. We had evidence from books on the art of glassmaking that told us this, but we lacked data to make comparisons for ourselves. Today, three factors have made this comparison possible:\n",
    "1. The tools of machine learning having become more widely available and accessible;\n",
    "2. Tools such as Jupyter notebook have made [reproducible research](https://committees.parliament.uk/writtenevidence/39806/pdf/) more widely accepted and desirable.\n",
    "3. Database repositories provide freely accessible and downloadable data with which to experiment with 1 and 2 preceding.\n",
    "\n",
    "\n",
    "## Ethical guideline \n",
    "\n",
    "Ideally a Turing Data Story has these properties and follows the [5 safes framework](http://blog.ukdataservice.ac.uk/access-to-sensitive-data-for-research-the-5-safes/).\n",
    "\n",
    "- [x] The analysis you produce is openly available and reproducible.\n",
    "- [x] Any data used are [open](https://opendatahandbook.org/guide/en/what-is-open-data/) and have an explicit licence, provenance and attribution.\n",
    "- [x] Any data used are not [personal data](https://ico.org.uk/for-organisations/guide-to-data-protection/guide-to-the-general-data-protection-regulation-gdpr/key-definitions/what-is-personal-data/) (i.e. the data is anonymous or anonymised).\n",
    "- [x] Any linkage of datasets in your data story does not lead to an increased risk of the personal identification of individuals.\n",
    "- [x] The Story must be truthful and clear about any limitations of analysis (and potential biases in data).\n",
    "- [x] The Story will not lead to negative social outcomes, such as (but not limited to) increasing discrimination or injustice.\n",
    "\n",
    "\n",
    "\n",
    "## Current status\n",
    "\n",
    " - [x] Scoping of the story\n",
    " - [x] Write story outline\n",
    " - [x] Add material to the story notebook\n",
    " - [x] Combine materials into a readable story\n",
    " - [x] Proofread\n",
    " - [x] Request reviews\n",
    " - [ ] Address reviews\n",
    " - [ ] Merge to master branch.\n",
    "\n",
    "## Updates\n",
    "\n",
    "<!-- To avoid that others have to read through the full thread of comments, update the initial issue with important updates (e.g. decisions taken) regularly so that all the important information is available at one glance. -->\n",
    "\n",
    "\n"
   ]
  },
  {
   "cell_type": "markdown",
   "id": "4fafbc92",
   "metadata": {},
   "source": []
  }
 ],
 "metadata": {
  "kernelspec": {
   "display_name": "Python 3",
   "language": "python",
   "name": "python3"
  },
  "language_info": {
   "codemirror_mode": {
    "name": "ipython",
    "version": 3
   },
   "file_extension": ".py",
   "mimetype": "text/x-python",
   "name": "python",
   "nbconvert_exporter": "python",
   "pygments_lexer": "ipython3",
   "version": "3.8.8"
  }
 },
 "nbformat": 4,
 "nbformat_minor": 5
}
