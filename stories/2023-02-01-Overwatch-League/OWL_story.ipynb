{
 "cells": [
  {
   "cell_type": "markdown",
   "metadata": {
    "id": "nyzGpQqNXQxd"
   },
   "source": [
    "# Esport predictions: Overwatch League \n",
    "\n",
    "We study a single season of games in the professional esports league for Overwatch and try to predict game outcomes based on past performance.\n",
    "\n",
    "Authors:\n",
    "\n",
    "* Markus Hauru\n",
    "* Tim Powell\n",
    "* Kevin Xu\n",
    "\n",
    "Reviewers:\n",
    "\n",
    "* Aoife Hughes\n",
    "* Jack Roberts\n"
   ]
  },
  {
   "cell_type": "markdown",
   "metadata": {
    "id": "icqBYUn8i_KK"
   },
   "source": [
    "## Overwatch League (OWL)\n",
    "\n",
    "Overwatch is an online team-based multiplayer first-person shooter (FPS) game developed and published by Blizzard Entertainment. It features different modes designed around combat between two opposing teams of six players each. It was first released in 2016 and has been highly popular among casual players, selling over 50 million copies, and as a professional esport.\n",
    "\n",
    "Matches between two teams consist of several games and each game is played on one of 21 possible maps. There are four different types of maps with varying objectives, such as controlling key locations on the map or capturing them from the opponent. Each match includes games with different map types, and typically the losing team gets to choose the next map. An individual game may further subdivide into rounds, depending on the map type. A game ends in a victory for one of the two teams or a draw.\n",
    "\n",
    "The Overwatch League (OWL) is the highest professional esports league for Overwatch, and is owned and run by Blizzard Entertainment. The 2021 OWL featured four midseason tournaments throughout the regular season which used a point system for season playoff seeding. OWL 2021 consisted of 20 teams split into two geographical regions: North America (NA) and Asia (APAC).\n",
    "\n"
   ]
  },
  {
   "cell_type": "markdown",
   "metadata": {
    "id": "zbRCXsR0A9eW"
   },
   "source": [
    "## Data Story\n",
    "\n",
    "This Data Story will look at the data produced during the OWL 2021 season to determine whether it is possible to predict the result of a game between two teams. We started writing this story mid way through the OWL 2022 season and thus chose to use the OWL 2021 dataset because of its comprehensivity. Since then, OWL 2022 has concluded and a sequel - Overwatch 2 - has been released. We hope and believe this analysis will carry through to the new game given the great similarity between them.\n",
    "\n",
    "One of our co-authors - Tim Powell - proposed this data story, stating:\n",
    "\"As I follow the OWL, I knew that it was possible to obtain the OWL data. I was curious to understand how much external, non-tangible factors influence the outcome of matches, and whether the historic data can tell the same story as to what happened in reality. The main question this data story aims to answer is:\n",
    "\n",
    "* *Is it possible to use a team's historic data to predict their future performance?*\""
   ]
  },
  {
   "cell_type": "markdown",
   "metadata": {
    "id": "Mb20m_L9FtOE"
   },
   "source": [
    "## Outline\n",
    "\n",
    "The story divides into the following parts.\n",
    "\n",
    "[Part 1. Data Ingestion](#scrollTo=y4Cnt1XoDTVF&line=2&uniqifier=1)\n",
    "  - Getting the source data\n",
    "\n",
    "[Part 2. Data Cleaning](#scrollTo=7rhbsSHoHlSn&line=1&uniqifier=1)\n",
    "  - Refining and filtering the data to the scope of our analysis\n",
    "\n",
    "[Part 3. Initial data exploration](#scrollTo=wb_NCIQJI9xz&line=1&uniqifier=1)\n",
    "  - Teams' win rates per map\n",
    "  - Visualisation\n",
    "  - Teams' records against each other per map\n",
    "\n",
    "[Part 4. A benchmark predictor](#scrollTo=JupHOOJ1NUUF&line=1&uniqifier=1)\n",
    "  - The pure guess predictor\n",
    "  - A framework for training and testing models\n",
    "\n",
    "[Part 5. Higher win rate predictor](#scrollTo=KGjg51ytQvQv&line=1&uniqifier=1)\n",
    "  - Predicting winners based on past history on the given map\n",
    "\n",
    "[Part 6. Skill based predictor - Elo ratings](#scrollTo=wWxuO8QtkTu9&line=3&uniqifier=1)\n",
    "  - The Elo rating system\n",
    "  - Predicting winners based on Elo ratings\n",
    "  - Combining Elo ratings and map win rates for better predictions?\n",
    "\n",
    "[Part 7. Conclusions](https://colab.research.google.com/drive/1niVhOprEyj1moSCP-AV9FKTXX5eA6Ge8#scrollTo=VLM2RBNc2jJ1&line=1&uniqifier=1)\n",
    "  - What we learned\n",
    "  - What we would like to do in the future"
   ]
  },
  {
   "cell_type": "markdown",
   "metadata": {
    "id": "y4Cnt1XoDTVF"
   },
   "source": [
    "# Part 1. Data Ingestion\n",
    "\n",
    "### Data source\n",
    "\n",
    "We initially considered using a community made API to access the data. However, all such projects that we found seemed to be inactive. For example, the most popular community made API was https://github.com/acupoftee/Overwatch-League-API-Documentation which appears to have been abandoned (3 years since the last GitHub update). Other community made APIs were also abandoned around the same time period. This coincides with a move from hosting OWL on Twitch to Youtube.\n",
    "\n",
    "Instead, we went straight to the raw source data. The official OWL website includes a stats tab that contains various data on players, heroes and matches. For this analysis, we will be using the [match data](https://overwatchleague.com/en-us/statslab) as it includes the results of match ups between different teams in the league."
   ]
  },
  {
   "cell_type": "markdown",
   "metadata": {
    "id": "ru8M2pbPR3F9"
   },
   "source": [
    "\n",
    "### Ingestion"
   ]
  },
  {
   "cell_type": "code",
   "execution_count": 39,
   "metadata": {
    "id": "9ZVLUkRQlT_9"
   },
   "outputs": [],
   "source": [
    "import io\n",
    "import itertools\n",
    "import random\n",
    "import requests\n",
    "from zipfile import ZipFile\n",
    "\n",
    "from IPython.display import clear_output\n",
    "import ipywidgets as widgets\n",
    "import matplotlib.pyplot as plt\n",
    "import pandas as pd\n",
    "import numpy as np\n",
    "import seaborn as sns\n",
    "from sklearn import svm, linear_model, preprocessing"
   ]
  },
  {
   "cell_type": "markdown",
   "metadata": {
    "id": "ns8rb165lU-A"
   },
   "source": [
    "We start by importing all packages we'll need in the whole story. This includes some standard Python libraries to do the following:\n",
    "- data manipulation (pandas, numpy)\n",
    "- data extraction (zipfile, requests)\n",
    "- data visualisation (pyplot, seaborn)\n",
    "- machine learning and statistical modelling (sklearn) \n",
    "- notebook widgets (widgets, IPython.display)\n",
    "- utilities (io, itertools, random)"
   ]
  },
  {
   "cell_type": "code",
   "execution_count": 40,
   "metadata": {
    "id": "RI46JRvel3y5"
   },
   "outputs": [],
   "source": [
    "# Download zip file and unzip\n",
    "url = \"https://assets.blz-contentstack.com/v3/assets/blt321317473c90505c/bltb4a6fe3cc2efaa02/634732b68cdace44d7b8efc4/2022_Week24_match_map_stats.zip\"\n",
    "r = requests.get(url)\n",
    "with ZipFile(io.BytesIO(r.content)) as z:\n",
    "    first_file = z.namelist()[0]\n",
    "    with z.open(first_file) as f:\n",
    "        content = f.read()"
   ]
  },
  {
   "cell_type": "markdown",
   "metadata": {
    "id": "rPQ7A8fvmGR8"
   },
   "source": [
    "We start by downloading a zip file containing all of the match and maps data over the last few years, and then ingest this as a pandas dataframe."
   ]
  },
  {
   "cell_type": "code",
   "execution_count": 41,
   "metadata": {
    "colab": {
     "base_uri": "https://localhost:8080/",
     "height": 473
    },
    "id": "FvObbLammcrq",
    "outputId": "228cc913-470d-4a5b-c1cb-266bc6c77f8e"
   },
   "outputs": [
    {
     "data": {
      "text/html": [
       "<div>\n",
       "<style scoped>\n",
       "    .dataframe tbody tr th:only-of-type {\n",
       "        vertical-align: middle;\n",
       "    }\n",
       "\n",
       "    .dataframe tbody tr th {\n",
       "        vertical-align: top;\n",
       "    }\n",
       "\n",
       "    .dataframe thead th {\n",
       "        text-align: right;\n",
       "    }\n",
       "</style>\n",
       "<table border=\"1\" class=\"dataframe\">\n",
       "  <thead>\n",
       "    <tr style=\"text-align: right;\">\n",
       "      <th></th>\n",
       "      <th>round_start_time</th>\n",
       "      <th>round_end_time</th>\n",
       "      <th>stage</th>\n",
       "      <th>match_id</th>\n",
       "      <th>game_number</th>\n",
       "      <th>match_winner</th>\n",
       "      <th>map_winner</th>\n",
       "      <th>map_loser</th>\n",
       "      <th>map_name</th>\n",
       "      <th>map_round</th>\n",
       "      <th>...</th>\n",
       "      <th>team_one_name</th>\n",
       "      <th>team_two_name</th>\n",
       "      <th>attacker_payload_distance</th>\n",
       "      <th>defender_payload_distance</th>\n",
       "      <th>attacker_time_banked</th>\n",
       "      <th>defender_time_banked</th>\n",
       "      <th>attacker_control_perecent</th>\n",
       "      <th>defender_control_perecent</th>\n",
       "      <th>attacker_round_end_score</th>\n",
       "      <th>defender_round_end_score</th>\n",
       "    </tr>\n",
       "  </thead>\n",
       "  <tbody>\n",
       "    <tr>\n",
       "      <th>0</th>\n",
       "      <td>01/11/18 00:12</td>\n",
       "      <td>01/11/18 00:20</td>\n",
       "      <td>2018: Stage 1</td>\n",
       "      <td>10223</td>\n",
       "      <td>1</td>\n",
       "      <td>Los Angeles Valiant</td>\n",
       "      <td>Los Angeles Valiant</td>\n",
       "      <td>San Francisco Shock</td>\n",
       "      <td>Dorado</td>\n",
       "      <td>1</td>\n",
       "      <td>...</td>\n",
       "      <td>Los Angeles Valiant</td>\n",
       "      <td>San Francisco Shock</td>\n",
       "      <td>75.61505</td>\n",
       "      <td>0.00000</td>\n",
       "      <td>0.000000</td>\n",
       "      <td>240.000</td>\n",
       "      <td>NaN</td>\n",
       "      <td>NaN</td>\n",
       "      <td>2</td>\n",
       "      <td>0</td>\n",
       "    </tr>\n",
       "    <tr>\n",
       "      <th>1</th>\n",
       "      <td>01/11/18 00:22</td>\n",
       "      <td>01/11/18 00:27</td>\n",
       "      <td>2018: Stage 1</td>\n",
       "      <td>10223</td>\n",
       "      <td>1</td>\n",
       "      <td>Los Angeles Valiant</td>\n",
       "      <td>Los Angeles Valiant</td>\n",
       "      <td>San Francisco Shock</td>\n",
       "      <td>Dorado</td>\n",
       "      <td>2</td>\n",
       "      <td>...</td>\n",
       "      <td>Los Angeles Valiant</td>\n",
       "      <td>San Francisco Shock</td>\n",
       "      <td>75.64960</td>\n",
       "      <td>75.61505</td>\n",
       "      <td>125.750570</td>\n",
       "      <td>0.000</td>\n",
       "      <td>NaN</td>\n",
       "      <td>NaN</td>\n",
       "      <td>3</td>\n",
       "      <td>2</td>\n",
       "    </tr>\n",
       "    <tr>\n",
       "      <th>2</th>\n",
       "      <td>01/11/18 00:34</td>\n",
       "      <td>01/11/18 00:38</td>\n",
       "      <td>2018: Stage 1</td>\n",
       "      <td>10223</td>\n",
       "      <td>2</td>\n",
       "      <td>Los Angeles Valiant</td>\n",
       "      <td>Los Angeles Valiant</td>\n",
       "      <td>San Francisco Shock</td>\n",
       "      <td>Temple of Anubis</td>\n",
       "      <td>1</td>\n",
       "      <td>...</td>\n",
       "      <td>Los Angeles Valiant</td>\n",
       "      <td>San Francisco Shock</td>\n",
       "      <td>0.00000</td>\n",
       "      <td>0.00000</td>\n",
       "      <td>250.492000</td>\n",
       "      <td>240.000</td>\n",
       "      <td>NaN</td>\n",
       "      <td>NaN</td>\n",
       "      <td>2</td>\n",
       "      <td>0</td>\n",
       "    </tr>\n",
       "    <tr>\n",
       "      <th>3</th>\n",
       "      <td>01/11/18 00:40</td>\n",
       "      <td>01/11/18 00:44</td>\n",
       "      <td>2018: Stage 1</td>\n",
       "      <td>10223</td>\n",
       "      <td>2</td>\n",
       "      <td>Los Angeles Valiant</td>\n",
       "      <td>Los Angeles Valiant</td>\n",
       "      <td>San Francisco Shock</td>\n",
       "      <td>Temple of Anubis</td>\n",
       "      <td>2</td>\n",
       "      <td>...</td>\n",
       "      <td>Los Angeles Valiant</td>\n",
       "      <td>San Francisco Shock</td>\n",
       "      <td>0.00000</td>\n",
       "      <td>0.00000</td>\n",
       "      <td>225.789030</td>\n",
       "      <td>250.492</td>\n",
       "      <td>NaN</td>\n",
       "      <td>NaN</td>\n",
       "      <td>2</td>\n",
       "      <td>2</td>\n",
       "    </tr>\n",
       "    <tr>\n",
       "      <th>4</th>\n",
       "      <td>01/11/18 00:46</td>\n",
       "      <td>01/11/18 00:49</td>\n",
       "      <td>2018: Stage 1</td>\n",
       "      <td>10223</td>\n",
       "      <td>2</td>\n",
       "      <td>Los Angeles Valiant</td>\n",
       "      <td>Los Angeles Valiant</td>\n",
       "      <td>San Francisco Shock</td>\n",
       "      <td>Temple of Anubis</td>\n",
       "      <td>3</td>\n",
       "      <td>...</td>\n",
       "      <td>Los Angeles Valiant</td>\n",
       "      <td>San Francisco Shock</td>\n",
       "      <td>0.00000</td>\n",
       "      <td>0.00000</td>\n",
       "      <td>36.396057</td>\n",
       "      <td>250.492</td>\n",
       "      <td>NaN</td>\n",
       "      <td>NaN</td>\n",
       "      <td>4</td>\n",
       "      <td>2</td>\n",
       "    </tr>\n",
       "  </tbody>\n",
       "</table>\n",
       "<p>5 rows × 25 columns</p>\n",
       "</div>"
      ],
      "text/plain": [
       "  round_start_time  round_end_time          stage  match_id  game_number  \\\n",
       "0   01/11/18 00:12  01/11/18 00:20  2018: Stage 1     10223            1   \n",
       "1   01/11/18 00:22  01/11/18 00:27  2018: Stage 1     10223            1   \n",
       "2   01/11/18 00:34  01/11/18 00:38  2018: Stage 1     10223            2   \n",
       "3   01/11/18 00:40  01/11/18 00:44  2018: Stage 1     10223            2   \n",
       "4   01/11/18 00:46  01/11/18 00:49  2018: Stage 1     10223            2   \n",
       "\n",
       "          match_winner           map_winner            map_loser  \\\n",
       "0  Los Angeles Valiant  Los Angeles Valiant  San Francisco Shock   \n",
       "1  Los Angeles Valiant  Los Angeles Valiant  San Francisco Shock   \n",
       "2  Los Angeles Valiant  Los Angeles Valiant  San Francisco Shock   \n",
       "3  Los Angeles Valiant  Los Angeles Valiant  San Francisco Shock   \n",
       "4  Los Angeles Valiant  Los Angeles Valiant  San Francisco Shock   \n",
       "\n",
       "           map_name  map_round  ...        team_one_name        team_two_name  \\\n",
       "0            Dorado          1  ...  Los Angeles Valiant  San Francisco Shock   \n",
       "1            Dorado          2  ...  Los Angeles Valiant  San Francisco Shock   \n",
       "2  Temple of Anubis          1  ...  Los Angeles Valiant  San Francisco Shock   \n",
       "3  Temple of Anubis          2  ...  Los Angeles Valiant  San Francisco Shock   \n",
       "4  Temple of Anubis          3  ...  Los Angeles Valiant  San Francisco Shock   \n",
       "\n",
       "  attacker_payload_distance defender_payload_distance attacker_time_banked  \\\n",
       "0                  75.61505                   0.00000             0.000000   \n",
       "1                  75.64960                  75.61505           125.750570   \n",
       "2                   0.00000                   0.00000           250.492000   \n",
       "3                   0.00000                   0.00000           225.789030   \n",
       "4                   0.00000                   0.00000            36.396057   \n",
       "\n",
       "  defender_time_banked attacker_control_perecent  defender_control_perecent  \\\n",
       "0              240.000                       NaN                        NaN   \n",
       "1                0.000                       NaN                        NaN   \n",
       "2              240.000                       NaN                        NaN   \n",
       "3              250.492                       NaN                        NaN   \n",
       "4              250.492                       NaN                        NaN   \n",
       "\n",
       "   attacker_round_end_score  defender_round_end_score  \n",
       "0                         2                         0  \n",
       "1                         3                         2  \n",
       "2                         2                         0  \n",
       "3                         2                         2  \n",
       "4                         4                         2  \n",
       "\n",
       "[5 rows x 25 columns]"
      ]
     },
     "execution_count": 41,
     "metadata": {},
     "output_type": "execute_result"
    }
   ],
   "source": [
    "# Convert files to csv and a pandas dataframe\n",
    "data = io.StringIO(str(content, \"utf-8\"))\n",
    "df = pd.read_csv(data)\n",
    "df.head()"
   ]
  },
  {
   "cell_type": "markdown",
   "metadata": {
    "id": "Ww14ycakmgDe"
   },
   "source": [
    "Here's what the data looks like, with some example rows from the top of the dataframe.\n"
   ]
  },
  {
   "cell_type": "markdown",
   "metadata": {
    "id": "7rhbsSHoHlSn"
   },
   "source": [
    "# Part 2. Data Cleaning\n",
    "\n",
    "Next we reduce the data to only the information that we need."
   ]
  },
  {
   "cell_type": "markdown",
   "metadata": {
    "id": "6MowjHrEmkql"
   },
   "source": [
    "\n",
    "\n",
    "Let's start with the 'Stage' column, allowing us to filter based on the Overwatch season. "
   ]
  },
  {
   "cell_type": "code",
   "execution_count": 42,
   "metadata": {
    "colab": {
     "base_uri": "https://localhost:8080/"
    },
    "id": "-aV-7muuze_a",
    "outputId": "d3129b96-18f6-46a1-94ab-bd824cf21452"
   },
   "outputs": [
    {
     "data": {
      "text/plain": [
       "array(['2018: Stage 1', '2018: Stage 1 Title Matches', '2018: Stage 2',\n",
       "       '2018: Stage 2 Title Matches', '2018: Stage 3',\n",
       "       '2018: Stage 3 Title Matches', '2018: Stage 4',\n",
       "       '2018: Stage 4 Title Matches', '2018: Championship',\n",
       "       '2019: Stage 1', '2019: Stage 1 Title Matches', '2019: Stage 2',\n",
       "       '2019: Stage 2 Title Matches', '2019: Stage 3',\n",
       "       '2019: Stage 3 Title Matches', '2019: Stage 4',\n",
       "       '2019: Postseason Play-in', '2019: Playoffs & Grand Finals',\n",
       "       '2020: Regular Season', '2020: May Melee: North America Knockouts',\n",
       "       '2020: May Melee: Asia', '2020: May Melee: North America',\n",
       "       '2020: Summer Showdown: North America Knockouts',\n",
       "       '2020: Summer Showdown: Asia',\n",
       "       '2020: Summer Showdown: North America',\n",
       "       '2020: Countdown Cup: North America Knockouts',\n",
       "       '2020: Countdown Cup: Asia', '2020: Countdown Cup: North America',\n",
       "       '2020: North America Playoffs', '2020: Asia Playoffs',\n",
       "       '2020: Grand Finals', '2021: May Melee: Qualifiers',\n",
       "       '2021: May Melee: Tournament', '2021: June Joust: Qualifiers',\n",
       "       '2021: June Joust: Tournament',\n",
       "       '2021: Summer Showdown: Qualifiers',\n",
       "       '2021: Summer Showdown: Tournament',\n",
       "       '2021: Countdown Cup: Qualifiers',\n",
       "       '2021: Countdown Cup: Tournament', '2021: Postseason',\n",
       "       '2022: Kickoff Clash: Qualifiers',\n",
       "       '2022: Kickoff Clash: Tournament',\n",
       "       '2022: Midseason Madness: Qualifiers',\n",
       "       '2022: Midseason Madness: Tournament',\n",
       "       '2022: Summer Showdown: Qualifiers',\n",
       "       '2022: Summer Showdown: Tournament',\n",
       "       '2022: Countdown Cup: Qualifiers'], dtype=object)"
      ]
     },
     "execution_count": 42,
     "metadata": {},
     "output_type": "execute_result"
    }
   ],
   "source": [
    "df[\"stage\"].unique()"
   ]
  },
  {
   "cell_type": "markdown",
   "metadata": {
    "id": "R8DQY9YV0Jxn"
   },
   "source": [
    "For this analysis we're going to use the 2021 season, as it was the most recent, complete data set at the time of writing. Focussing on a single season is useful to avoid having to think too much about changes in team rosters: typically players remain in a team for the entire season, but between seasons many players move teams. Trying to analyse the effect of such transfers would be very interesting, but with limited time, we focus on the team-level analysis, and thus constrain ourselves to a single season.\n",
    "\n",
    "The columns of the dataframe include plenty of information we don't care about: Recall that each match subdivides into games, which subdivide into rounds. We will keep our analysis on the level of games (which are always played on a single map), and thus can leave out all information about who won the match, or about the individual round, such as how far the payload (an object fought over on some map types) progressed.\n",
    "\n",
    "In the end we are left with the following columns of interest, filtered to just the 2021 season."
   ]
  },
  {
   "cell_type": "code",
   "execution_count": 43,
   "metadata": {
    "colab": {
     "base_uri": "https://localhost:8080/",
     "height": 423
    },
    "id": "OQMg1aQ1m985",
    "outputId": "3ea3dc56-d138-4a8d-81b4-11f2ac77f15f"
   },
   "outputs": [
    {
     "data": {
      "text/html": [
       "<div>\n",
       "<style scoped>\n",
       "    .dataframe tbody tr th:only-of-type {\n",
       "        vertical-align: middle;\n",
       "    }\n",
       "\n",
       "    .dataframe tbody tr th {\n",
       "        vertical-align: top;\n",
       "    }\n",
       "\n",
       "    .dataframe thead th {\n",
       "        text-align: right;\n",
       "    }\n",
       "</style>\n",
       "<table border=\"1\" class=\"dataframe\">\n",
       "  <thead>\n",
       "    <tr style=\"text-align: right;\">\n",
       "      <th></th>\n",
       "      <th>match_id</th>\n",
       "      <th>map_winner</th>\n",
       "      <th>map_loser</th>\n",
       "      <th>team_one_name</th>\n",
       "      <th>team_two_name</th>\n",
       "      <th>map_name</th>\n",
       "      <th>round_start_time</th>\n",
       "    </tr>\n",
       "  </thead>\n",
       "  <tbody>\n",
       "    <tr>\n",
       "      <th>9071</th>\n",
       "      <td>37234</td>\n",
       "      <td>Houston Outlaws</td>\n",
       "      <td>Dallas Fuel</td>\n",
       "      <td>Houston Outlaws</td>\n",
       "      <td>Dallas Fuel</td>\n",
       "      <td>Busan</td>\n",
       "      <td>04/16/21 19:08</td>\n",
       "    </tr>\n",
       "    <tr>\n",
       "      <th>9072</th>\n",
       "      <td>37234</td>\n",
       "      <td>Houston Outlaws</td>\n",
       "      <td>Dallas Fuel</td>\n",
       "      <td>Houston Outlaws</td>\n",
       "      <td>Dallas Fuel</td>\n",
       "      <td>Busan</td>\n",
       "      <td>04/16/21 19:12</td>\n",
       "    </tr>\n",
       "    <tr>\n",
       "      <th>9073</th>\n",
       "      <td>37234</td>\n",
       "      <td>Houston Outlaws</td>\n",
       "      <td>Dallas Fuel</td>\n",
       "      <td>Houston Outlaws</td>\n",
       "      <td>Dallas Fuel</td>\n",
       "      <td>Busan</td>\n",
       "      <td>04/16/21 19:18</td>\n",
       "    </tr>\n",
       "    <tr>\n",
       "      <th>9074</th>\n",
       "      <td>37234</td>\n",
       "      <td>Dallas Fuel</td>\n",
       "      <td>Houston Outlaws</td>\n",
       "      <td>Houston Outlaws</td>\n",
       "      <td>Dallas Fuel</td>\n",
       "      <td>King's Row</td>\n",
       "      <td>04/16/21 19:30</td>\n",
       "    </tr>\n",
       "    <tr>\n",
       "      <th>9075</th>\n",
       "      <td>37234</td>\n",
       "      <td>Dallas Fuel</td>\n",
       "      <td>Houston Outlaws</td>\n",
       "      <td>Houston Outlaws</td>\n",
       "      <td>Dallas Fuel</td>\n",
       "      <td>King's Row</td>\n",
       "      <td>04/16/21 19:39</td>\n",
       "    </tr>\n",
       "    <tr>\n",
       "      <th>...</th>\n",
       "      <td>...</td>\n",
       "      <td>...</td>\n",
       "      <td>...</td>\n",
       "      <td>...</td>\n",
       "      <td>...</td>\n",
       "      <td>...</td>\n",
       "      <td>...</td>\n",
       "    </tr>\n",
       "    <tr>\n",
       "      <th>11220</th>\n",
       "      <td>37441</td>\n",
       "      <td>Shanghai Dragons</td>\n",
       "      <td>Atlanta Reign</td>\n",
       "      <td>Atlanta Reign</td>\n",
       "      <td>Shanghai Dragons</td>\n",
       "      <td>King's Row</td>\n",
       "      <td>09/26/21 01:57</td>\n",
       "    </tr>\n",
       "    <tr>\n",
       "      <th>11221</th>\n",
       "      <td>37441</td>\n",
       "      <td>Shanghai Dragons</td>\n",
       "      <td>Atlanta Reign</td>\n",
       "      <td>Atlanta Reign</td>\n",
       "      <td>Shanghai Dragons</td>\n",
       "      <td>King's Row</td>\n",
       "      <td>09/26/21 02:05</td>\n",
       "    </tr>\n",
       "    <tr>\n",
       "      <th>11222</th>\n",
       "      <td>37441</td>\n",
       "      <td>Shanghai Dragons</td>\n",
       "      <td>Atlanta Reign</td>\n",
       "      <td>Atlanta Reign</td>\n",
       "      <td>Shanghai Dragons</td>\n",
       "      <td>King's Row</td>\n",
       "      <td>09/26/21 02:09</td>\n",
       "    </tr>\n",
       "    <tr>\n",
       "      <th>11223</th>\n",
       "      <td>37441</td>\n",
       "      <td>Shanghai Dragons</td>\n",
       "      <td>Atlanta Reign</td>\n",
       "      <td>Shanghai Dragons</td>\n",
       "      <td>Atlanta Reign</td>\n",
       "      <td>Havana</td>\n",
       "      <td>09/26/21 02:53</td>\n",
       "    </tr>\n",
       "    <tr>\n",
       "      <th>11224</th>\n",
       "      <td>37441</td>\n",
       "      <td>Shanghai Dragons</td>\n",
       "      <td>Atlanta Reign</td>\n",
       "      <td>Shanghai Dragons</td>\n",
       "      <td>Atlanta Reign</td>\n",
       "      <td>Havana</td>\n",
       "      <td>09/26/21 03:03</td>\n",
       "    </tr>\n",
       "  </tbody>\n",
       "</table>\n",
       "<p>2154 rows × 7 columns</p>\n",
       "</div>"
      ],
      "text/plain": [
       "       match_id        map_winner        map_loser     team_one_name  \\\n",
       "9071      37234   Houston Outlaws      Dallas Fuel   Houston Outlaws   \n",
       "9072      37234   Houston Outlaws      Dallas Fuel   Houston Outlaws   \n",
       "9073      37234   Houston Outlaws      Dallas Fuel   Houston Outlaws   \n",
       "9074      37234       Dallas Fuel  Houston Outlaws   Houston Outlaws   \n",
       "9075      37234       Dallas Fuel  Houston Outlaws   Houston Outlaws   \n",
       "...         ...               ...              ...               ...   \n",
       "11220     37441  Shanghai Dragons    Atlanta Reign     Atlanta Reign   \n",
       "11221     37441  Shanghai Dragons    Atlanta Reign     Atlanta Reign   \n",
       "11222     37441  Shanghai Dragons    Atlanta Reign     Atlanta Reign   \n",
       "11223     37441  Shanghai Dragons    Atlanta Reign  Shanghai Dragons   \n",
       "11224     37441  Shanghai Dragons    Atlanta Reign  Shanghai Dragons   \n",
       "\n",
       "          team_two_name    map_name round_start_time  \n",
       "9071        Dallas Fuel       Busan   04/16/21 19:08  \n",
       "9072        Dallas Fuel       Busan   04/16/21 19:12  \n",
       "9073        Dallas Fuel       Busan   04/16/21 19:18  \n",
       "9074        Dallas Fuel  King's Row   04/16/21 19:30  \n",
       "9075        Dallas Fuel  King's Row   04/16/21 19:39  \n",
       "...                 ...         ...              ...  \n",
       "11220  Shanghai Dragons  King's Row   09/26/21 01:57  \n",
       "11221  Shanghai Dragons  King's Row   09/26/21 02:05  \n",
       "11222  Shanghai Dragons  King's Row   09/26/21 02:09  \n",
       "11223     Atlanta Reign      Havana   09/26/21 02:53  \n",
       "11224     Atlanta Reign      Havana   09/26/21 03:03  \n",
       "\n",
       "[2154 rows x 7 columns]"
      ]
     },
     "execution_count": 43,
     "metadata": {},
     "output_type": "execute_result"
    }
   ],
   "source": [
    "# Reduce data to only the OWL 2021 stage and only the relevant columns\n",
    "kept_columns = [\n",
    "    \"match_id\",\n",
    "    \"map_winner\",\n",
    "    \"map_loser\",\n",
    "    \"team_one_name\",\n",
    "    \"team_two_name\",\n",
    "    \"map_name\",\n",
    "    \"round_start_time\",\n",
    "]\n",
    "# We also encourage the reader to modify the string to run the analysis on a \n",
    "# different year.\n",
    "owl21_reduced = df.loc[df[\"stage\"].str.contains(\"2021\"), kept_columns] \n",
    "owl21_reduced"
   ]
  },
  {
   "cell_type": "markdown",
   "metadata": {
    "id": "Mcr_VBXpnFOt"
   },
   "source": [
    "For the purpose of this analysis round start times are not required except for the purpose of sorting the rounds to be chronologically ordeded. Note also that there are multiple rows for each map, because typically multiple rounds are played in each map. Additionally, as we are only considering game level results, round results are removed from the data. We then reset the index to have continuous numbering of the games starting from 0."
   ]
  },
  {
   "cell_type": "code",
   "execution_count": 44,
   "metadata": {
    "colab": {
     "base_uri": "https://localhost:8080/",
     "height": 423
    },
    "id": "ISJXYO_VryFm",
    "outputId": "0eb61a19-3998-46ad-ac29-1379b9243226"
   },
   "outputs": [
    {
     "data": {
      "text/html": [
       "<div>\n",
       "<style scoped>\n",
       "    .dataframe tbody tr th:only-of-type {\n",
       "        vertical-align: middle;\n",
       "    }\n",
       "\n",
       "    .dataframe tbody tr th {\n",
       "        vertical-align: top;\n",
       "    }\n",
       "\n",
       "    .dataframe thead th {\n",
       "        text-align: right;\n",
       "    }\n",
       "</style>\n",
       "<table border=\"1\" class=\"dataframe\">\n",
       "  <thead>\n",
       "    <tr style=\"text-align: right;\">\n",
       "      <th></th>\n",
       "      <th>match_id</th>\n",
       "      <th>map_winner</th>\n",
       "      <th>map_loser</th>\n",
       "      <th>team_one_name</th>\n",
       "      <th>team_two_name</th>\n",
       "      <th>map_name</th>\n",
       "    </tr>\n",
       "  </thead>\n",
       "  <tbody>\n",
       "    <tr>\n",
       "      <th>0</th>\n",
       "      <td>37234</td>\n",
       "      <td>Houston Outlaws</td>\n",
       "      <td>Dallas Fuel</td>\n",
       "      <td>Houston Outlaws</td>\n",
       "      <td>Dallas Fuel</td>\n",
       "      <td>Busan</td>\n",
       "    </tr>\n",
       "    <tr>\n",
       "      <th>1</th>\n",
       "      <td>37234</td>\n",
       "      <td>Dallas Fuel</td>\n",
       "      <td>Houston Outlaws</td>\n",
       "      <td>Houston Outlaws</td>\n",
       "      <td>Dallas Fuel</td>\n",
       "      <td>King's Row</td>\n",
       "    </tr>\n",
       "    <tr>\n",
       "      <th>2</th>\n",
       "      <td>37234</td>\n",
       "      <td>Houston Outlaws</td>\n",
       "      <td>Dallas Fuel</td>\n",
       "      <td>Dallas Fuel</td>\n",
       "      <td>Houston Outlaws</td>\n",
       "      <td>Havana</td>\n",
       "    </tr>\n",
       "    <tr>\n",
       "      <th>3</th>\n",
       "      <td>37234</td>\n",
       "      <td>Dallas Fuel</td>\n",
       "      <td>Houston Outlaws</td>\n",
       "      <td>Houston Outlaws</td>\n",
       "      <td>Dallas Fuel</td>\n",
       "      <td>Volskaya Industries</td>\n",
       "    </tr>\n",
       "    <tr>\n",
       "      <th>4</th>\n",
       "      <td>37234</td>\n",
       "      <td>Houston Outlaws</td>\n",
       "      <td>Dallas Fuel</td>\n",
       "      <td>Houston Outlaws</td>\n",
       "      <td>Dallas Fuel</td>\n",
       "      <td>Ilios</td>\n",
       "    </tr>\n",
       "    <tr>\n",
       "      <th>...</th>\n",
       "      <td>...</td>\n",
       "      <td>...</td>\n",
       "      <td>...</td>\n",
       "      <td>...</td>\n",
       "      <td>...</td>\n",
       "      <td>...</td>\n",
       "    </tr>\n",
       "    <tr>\n",
       "      <th>889</th>\n",
       "      <td>37442</td>\n",
       "      <td>Atlanta Reign</td>\n",
       "      <td>Dallas Fuel</td>\n",
       "      <td>Dallas Fuel</td>\n",
       "      <td>Atlanta Reign</td>\n",
       "      <td>Dorado</td>\n",
       "    </tr>\n",
       "    <tr>\n",
       "      <th>890</th>\n",
       "      <td>37441</td>\n",
       "      <td>Shanghai Dragons</td>\n",
       "      <td>Atlanta Reign</td>\n",
       "      <td>Atlanta Reign</td>\n",
       "      <td>Shanghai Dragons</td>\n",
       "      <td>Ilios</td>\n",
       "    </tr>\n",
       "    <tr>\n",
       "      <th>891</th>\n",
       "      <td>37441</td>\n",
       "      <td>Shanghai Dragons</td>\n",
       "      <td>Atlanta Reign</td>\n",
       "      <td>Shanghai Dragons</td>\n",
       "      <td>Atlanta Reign</td>\n",
       "      <td>Hanamura</td>\n",
       "    </tr>\n",
       "    <tr>\n",
       "      <th>892</th>\n",
       "      <td>37441</td>\n",
       "      <td>Shanghai Dragons</td>\n",
       "      <td>Atlanta Reign</td>\n",
       "      <td>Atlanta Reign</td>\n",
       "      <td>Shanghai Dragons</td>\n",
       "      <td>King's Row</td>\n",
       "    </tr>\n",
       "    <tr>\n",
       "      <th>893</th>\n",
       "      <td>37441</td>\n",
       "      <td>Shanghai Dragons</td>\n",
       "      <td>Atlanta Reign</td>\n",
       "      <td>Shanghai Dragons</td>\n",
       "      <td>Atlanta Reign</td>\n",
       "      <td>Havana</td>\n",
       "    </tr>\n",
       "  </tbody>\n",
       "</table>\n",
       "<p>894 rows × 6 columns</p>\n",
       "</div>"
      ],
      "text/plain": [
       "     match_id        map_winner        map_loser     team_one_name  \\\n",
       "0       37234   Houston Outlaws      Dallas Fuel   Houston Outlaws   \n",
       "1       37234       Dallas Fuel  Houston Outlaws   Houston Outlaws   \n",
       "2       37234   Houston Outlaws      Dallas Fuel       Dallas Fuel   \n",
       "3       37234       Dallas Fuel  Houston Outlaws   Houston Outlaws   \n",
       "4       37234   Houston Outlaws      Dallas Fuel   Houston Outlaws   \n",
       "..        ...               ...              ...               ...   \n",
       "889     37442     Atlanta Reign      Dallas Fuel       Dallas Fuel   \n",
       "890     37441  Shanghai Dragons    Atlanta Reign     Atlanta Reign   \n",
       "891     37441  Shanghai Dragons    Atlanta Reign  Shanghai Dragons   \n",
       "892     37441  Shanghai Dragons    Atlanta Reign     Atlanta Reign   \n",
       "893     37441  Shanghai Dragons    Atlanta Reign  Shanghai Dragons   \n",
       "\n",
       "        team_two_name             map_name  \n",
       "0         Dallas Fuel                Busan  \n",
       "1         Dallas Fuel           King's Row  \n",
       "2     Houston Outlaws               Havana  \n",
       "3         Dallas Fuel  Volskaya Industries  \n",
       "4         Dallas Fuel                Ilios  \n",
       "..                ...                  ...  \n",
       "889     Atlanta Reign               Dorado  \n",
       "890  Shanghai Dragons                Ilios  \n",
       "891     Atlanta Reign             Hanamura  \n",
       "892  Shanghai Dragons           King's Row  \n",
       "893     Atlanta Reign               Havana  \n",
       "\n",
       "[894 rows x 6 columns]"
      ]
     },
     "execution_count": 44,
     "metadata": {},
     "output_type": "execute_result"
    }
   ],
   "source": [
    "owl21_reduced = owl21_reduced.sort_values(\"round_start_time\")\n",
    "kept_columns = [\n",
    "    \"match_id\",\n",
    "    \"map_winner\",\n",
    "    \"map_loser\",\n",
    "    \"team_one_name\",\n",
    "    \"team_two_name\",\n",
    "    \"map_name\",\n",
    "]\n",
    "owl21_reduced = (\n",
    "    owl21_reduced[kept_columns].drop_duplicates().reset_index().drop(columns=\"index\")\n",
    ")\n",
    "owl21_reduced"
   ]
  },
  {
   "cell_type": "markdown",
   "metadata": {
    "id": "ipwM2FsPXA3i"
   },
   "source": [
    "We are left with a data set of 894 games to study."
   ]
  },
  {
   "cell_type": "markdown",
   "metadata": {
    "id": "wb_NCIQJI9xz"
   },
   "source": [
    "# Part 3. Initial data exploration\n",
    "\n",
    "Our eventual goal is to predict the outcomes of future games based on past history of the teams involved. For example, a predictor should be able to use information from the first 200 maps to predict the result of the 201st map.\n",
    "\n",
    "Before we do that however, let's start with exploring the data to get an initial idea of what it looks like and how teams perform. We start by collecting lists of all maps and teams."
   ]
  },
  {
   "cell_type": "code",
   "execution_count": 45,
   "metadata": {
    "colab": {
     "base_uri": "https://localhost:8080/"
    },
    "id": "6KfSqkmwahYm",
    "outputId": "f588aab6-3ea2-4d1e-ae69-8ba0501bb244"
   },
   "outputs": [
    {
     "data": {
      "text/plain": [
       "array(['Busan', \"King's Row\", 'Havana', 'Volskaya Industries', 'Ilios',\n",
       "       'Eichenwalde', 'Watchpoint: Gibraltar', 'Hanamura',\n",
       "       'Lijiang Tower', 'Blizzard World', 'Dorado', 'Temple of Anubis',\n",
       "       'Oasis', 'Nepal', 'Numbani', 'Rialto', 'Hollywood', 'Junkertown',\n",
       "       'Route 66'], dtype=object)"
      ]
     },
     "execution_count": 45,
     "metadata": {},
     "output_type": "execute_result"
    }
   ],
   "source": [
    "# Get list of maps\n",
    "map_list = owl21_reduced[\"map_name\"].unique()\n",
    "map_list"
   ]
  },
  {
   "cell_type": "code",
   "execution_count": 46,
   "metadata": {
    "colab": {
     "base_uri": "https://localhost:8080/"
    },
    "id": "AVxU9HHfa-5H",
    "outputId": "55c1a900-402a-43cc-87a8-538cf4da25c1"
   },
   "outputs": [
    {
     "data": {
      "text/plain": [
       "['Seoul Dynasty',\n",
       " 'Boston Uprising',\n",
       " 'Toronto Defiant',\n",
       " 'London Spitfire',\n",
       " 'Hangzhou Spark',\n",
       " 'Washington Justice',\n",
       " 'Chengdu Hunters',\n",
       " 'San Francisco Shock',\n",
       " 'Atlanta Reign',\n",
       " 'Dallas Fuel',\n",
       " 'Florida Mayhem',\n",
       " 'Los Angeles Gladiators',\n",
       " 'Philadelphia Fusion',\n",
       " 'Shanghai Dragons',\n",
       " 'Paris Eternal',\n",
       " 'Los Angeles Valiant',\n",
       " 'Guangzhou Charge',\n",
       " 'Houston Outlaws',\n",
       " 'Vancouver Titans',\n",
       " 'New York Excelsior']"
      ]
     },
     "execution_count": 46,
     "metadata": {},
     "output_type": "execute_result"
    }
   ],
   "source": [
    "# Get list of teams\n",
    "team_winners = owl21_reduced[\"map_winner\"].unique()\n",
    "team_losers = owl21_reduced[\"map_loser\"].unique()\n",
    "team_names = list(set().union(team_winners, team_losers))\n",
    "team_names.remove(\"draw\")\n",
    "team_names"
   ]
  },
  {
   "cell_type": "markdown",
   "metadata": {
    "id": "LTzpuXfhbZXD"
   },
   "source": [
    "To get an idea of the performance of various teams, we compute their win rate for each map: The number of times they've won on that map, divided by the number of times they've played the map."
   ]
  },
  {
   "cell_type": "code",
   "execution_count": 47,
   "metadata": {
    "colab": {
     "base_uri": "https://localhost:8080/",
     "height": 423
    },
    "id": "Qh2rzszHbNuk",
    "outputId": "c26f0bec-49eb-4a3b-ebad-3c62cd146d59"
   },
   "outputs": [
    {
     "data": {
      "text/html": [
       "<div>\n",
       "<style scoped>\n",
       "    .dataframe tbody tr th:only-of-type {\n",
       "        vertical-align: middle;\n",
       "    }\n",
       "\n",
       "    .dataframe tbody tr th {\n",
       "        vertical-align: top;\n",
       "    }\n",
       "\n",
       "    .dataframe thead th {\n",
       "        text-align: right;\n",
       "    }\n",
       "</style>\n",
       "<table border=\"1\" class=\"dataframe\">\n",
       "  <thead>\n",
       "    <tr style=\"text-align: right;\">\n",
       "      <th></th>\n",
       "      <th>team_name</th>\n",
       "      <th>map</th>\n",
       "      <th>win_%</th>\n",
       "      <th>win</th>\n",
       "      <th>draw</th>\n",
       "      <th>lose</th>\n",
       "      <th>games_played</th>\n",
       "    </tr>\n",
       "  </thead>\n",
       "  <tbody>\n",
       "    <tr>\n",
       "      <th>0</th>\n",
       "      <td>Seoul Dynasty</td>\n",
       "      <td>Busan</td>\n",
       "      <td>0.6000</td>\n",
       "      <td>6</td>\n",
       "      <td>0</td>\n",
       "      <td>4</td>\n",
       "      <td>10</td>\n",
       "    </tr>\n",
       "    <tr>\n",
       "      <th>1</th>\n",
       "      <td>Seoul Dynasty</td>\n",
       "      <td>King's Row</td>\n",
       "      <td>0.8000</td>\n",
       "      <td>4</td>\n",
       "      <td>0</td>\n",
       "      <td>1</td>\n",
       "      <td>5</td>\n",
       "    </tr>\n",
       "    <tr>\n",
       "      <th>2</th>\n",
       "      <td>Seoul Dynasty</td>\n",
       "      <td>Havana</td>\n",
       "      <td>0.6667</td>\n",
       "      <td>2</td>\n",
       "      <td>0</td>\n",
       "      <td>1</td>\n",
       "      <td>3</td>\n",
       "    </tr>\n",
       "    <tr>\n",
       "      <th>3</th>\n",
       "      <td>Seoul Dynasty</td>\n",
       "      <td>Volskaya Industries</td>\n",
       "      <td>0.8000</td>\n",
       "      <td>4</td>\n",
       "      <td>1</td>\n",
       "      <td>0</td>\n",
       "      <td>5</td>\n",
       "    </tr>\n",
       "    <tr>\n",
       "      <th>4</th>\n",
       "      <td>Seoul Dynasty</td>\n",
       "      <td>Ilios</td>\n",
       "      <td>0.7500</td>\n",
       "      <td>3</td>\n",
       "      <td>0</td>\n",
       "      <td>1</td>\n",
       "      <td>4</td>\n",
       "    </tr>\n",
       "    <tr>\n",
       "      <th>...</th>\n",
       "      <td>...</td>\n",
       "      <td>...</td>\n",
       "      <td>...</td>\n",
       "      <td>...</td>\n",
       "      <td>...</td>\n",
       "      <td>...</td>\n",
       "      <td>...</td>\n",
       "    </tr>\n",
       "    <tr>\n",
       "      <th>375</th>\n",
       "      <td>New York Excelsior</td>\n",
       "      <td>Numbani</td>\n",
       "      <td>0.4000</td>\n",
       "      <td>2</td>\n",
       "      <td>0</td>\n",
       "      <td>3</td>\n",
       "      <td>5</td>\n",
       "    </tr>\n",
       "    <tr>\n",
       "      <th>376</th>\n",
       "      <td>New York Excelsior</td>\n",
       "      <td>Rialto</td>\n",
       "      <td>0.3333</td>\n",
       "      <td>1</td>\n",
       "      <td>0</td>\n",
       "      <td>2</td>\n",
       "      <td>3</td>\n",
       "    </tr>\n",
       "    <tr>\n",
       "      <th>377</th>\n",
       "      <td>New York Excelsior</td>\n",
       "      <td>Hollywood</td>\n",
       "      <td>0.3333</td>\n",
       "      <td>1</td>\n",
       "      <td>0</td>\n",
       "      <td>2</td>\n",
       "      <td>3</td>\n",
       "    </tr>\n",
       "    <tr>\n",
       "      <th>378</th>\n",
       "      <td>New York Excelsior</td>\n",
       "      <td>Junkertown</td>\n",
       "      <td>0.7500</td>\n",
       "      <td>3</td>\n",
       "      <td>0</td>\n",
       "      <td>1</td>\n",
       "      <td>4</td>\n",
       "    </tr>\n",
       "    <tr>\n",
       "      <th>379</th>\n",
       "      <td>New York Excelsior</td>\n",
       "      <td>Route 66</td>\n",
       "      <td>0.5000</td>\n",
       "      <td>1</td>\n",
       "      <td>0</td>\n",
       "      <td>1</td>\n",
       "      <td>2</td>\n",
       "    </tr>\n",
       "  </tbody>\n",
       "</table>\n",
       "<p>380 rows × 7 columns</p>\n",
       "</div>"
      ],
      "text/plain": [
       "              team_name                  map   win_%  win  draw  lose  \\\n",
       "0         Seoul Dynasty                Busan  0.6000    6     0     4   \n",
       "1         Seoul Dynasty           King's Row  0.8000    4     0     1   \n",
       "2         Seoul Dynasty               Havana  0.6667    2     0     1   \n",
       "3         Seoul Dynasty  Volskaya Industries  0.8000    4     1     0   \n",
       "4         Seoul Dynasty                Ilios  0.7500    3     0     1   \n",
       "..                  ...                  ...     ...  ...   ...   ...   \n",
       "375  New York Excelsior              Numbani  0.4000    2     0     3   \n",
       "376  New York Excelsior               Rialto  0.3333    1     0     2   \n",
       "377  New York Excelsior            Hollywood  0.3333    1     0     2   \n",
       "378  New York Excelsior           Junkertown  0.7500    3     0     1   \n",
       "379  New York Excelsior             Route 66  0.5000    1     0     1   \n",
       "\n",
       "     games_played  \n",
       "0              10  \n",
       "1               5  \n",
       "2               3  \n",
       "3               5  \n",
       "4               4  \n",
       "..            ...  \n",
       "375             5  \n",
       "376             3  \n",
       "377             3  \n",
       "378             4  \n",
       "379             2  \n",
       "\n",
       "[380 rows x 7 columns]"
      ]
     },
     "execution_count": 47,
     "metadata": {},
     "output_type": "execute_result"
    }
   ],
   "source": [
    "def map_data(team_list, map_list, df):\n",
    "    # make dataframe\n",
    "    column_names = (\"team_name\", \"map\", \"win_%\", \"win\", \"draw\", \"lose\")\n",
    "    team_map_data_df = pd.DataFrame(columns=column_names)\n",
    "\n",
    "    # iterate through teams\n",
    "    for team in team_list:\n",
    "        # iterate through maps\n",
    "        for map in map_list:\n",
    "            # filter to specific team and map\n",
    "            map_filter = df[\"map_name\"] == map\n",
    "            team_filter = (df[\"team_one_name\"] == team) | (df[\"team_two_name\"] == team)\n",
    "            team_map_df = df[map_filter & team_filter]\n",
    "\n",
    "            # calculate data and add to list\n",
    "            num_win = (team_map_df.map_winner == team).sum()\n",
    "            num_lose = (team_map_df.map_loser == team).sum()\n",
    "            num_total = len(team_map_df.index)\n",
    "            num_draw = num_total - num_win - num_lose\n",
    "            win_perc = num_win / num_total if num_total > 0 else np.nan\n",
    "            map_data_list = [team, map, round(win_perc, 4), num_win, num_draw, num_lose]\n",
    "\n",
    "            # append data list to dataframe\n",
    "            team_map_data_df.loc[len(team_map_data_df)] = map_data_list\n",
    "\n",
    "    team_map_data_df[\"games_played\"] = team_map_data_df[[\"win\", \"draw\", \"lose\"]].sum(\n",
    "        axis=1\n",
    "    )\n",
    "    return team_map_data_df\n",
    "\n",
    "\n",
    "all_teams_map_data = map_data(team_names, map_list, owl21_reduced)\n",
    "all_teams_map_data"
   ]
  },
  {
   "cell_type": "markdown",
   "metadata": {
    "id": "EYrVY0uMQYUG"
   },
   "source": [
    "Let's see what the distribution of win rates looks like over maps and teams. The win rate isn't very meaningful if the team has only played the map a handful of times, so we also set a cut-off, where we only consider team-map combinations that occur at least 4 times during the season"
   ]
  },
  {
   "cell_type": "code",
   "execution_count": 48,
   "metadata": {
    "colab": {
     "base_uri": "https://localhost:8080/",
     "height": 366
    },
    "id": "d6GdzKtdQaEw",
    "outputId": "edc8c17b-b9a2-4a5e-b78b-f04cca00635e"
   },
   "outputs": [
    {
     "data": {
      "image/png": "[encoded data removed]",
      "text/plain": [
       "<Figure size 640x480 with 2 Axes>"
      ]
     },
     "metadata": {},
     "output_type": "display_data"
    }
   ],
   "source": [
    "def plot_win_rate_distribution(owl21_reduced, all_teams_map_data, min_games=4):\n",
    "    filtered_all_teams_map_data = all_teams_map_data.copy()\n",
    "    filtered_all_teams_map_data[\"win_%\"] = filtered_all_teams_map_data[\"win_%\"].where(\n",
    "        all_teams_map_data[\"games_played\"] >= min_games, np.nan\n",
    "    )\n",
    "    # Visualise win rates of teams vs maps\n",
    "    team_map_matrix = filtered_all_teams_map_data.set_index(\"team_name\").pivot(\n",
    "        columns=\"map\"\n",
    "    )[\"win_%\"]\n",
    "    # Sort teams by total wins and maps by total match count.\n",
    "    team_order = owl21_reduced[\"map_winner\"].value_counts().argsort().drop(\"draw\")\n",
    "    map_order = owl21_reduced[\"map_name\"].value_counts().argsort()\n",
    "    team_map_matrix = team_map_matrix.loc[team_order.index, map_order.index]\n",
    "    sns.heatmap(team_map_matrix, vmin=0, vmax=1, square=True, cmap=\"crest\")\n",
    "\n",
    "\n",
    "plot_win_rate_distribution(owl21_reduced, all_teams_map_data)"
   ]
  },
  {
   "cell_type": "markdown",
   "metadata": {
    "id": "s36-gf5BQhyW"
   },
   "source": [
    "On the vertical axis here are the teams, ordered by total number of wins over the season. On the horizontal axis are maps, ordered by how many times they were played during the season. The colours code the win rates.\n",
    "\n",
    "Some observations:\n",
    "* Due to the season being quite short, there are many teams that didn't play certain maps more than 4 times. This also varies between teams, because the good teams get to play more matches, and thus have less maps for which they have little data. This lack of data will cause us problems later.\n",
    "* The good teams seem to be good on almost all maps, the bad teams are bad on almost all maps. This suggests that there is not much map specialisation.\n",
    "* There are some exceptions to the above point. E.g. Dallas Fuel is the second best team by total win count, but has a very low win rate on Route 66. Conversely, Boston Uprising is one of the worst teams, but has a very good record on Ilios.\n",
    "* Some maps are much more popular than others. Almost all teams have played more than 4 game on Temple of Anubis, Volskaya Industries, and Hanamura, where as only three teams have more than 4 games on Hollywood."
   ]
  },
  {
   "cell_type": "code",
   "execution_count": 49,
   "metadata": {
    "colab": {
     "base_uri": "https://localhost:8080/",
     "height": 396,
     "referenced_widgets": [
      "89d91a44b6794629a3d2bcbd54c5c4ca",
      "98d2c26d8b564f07a1bd03559a4ae1b4",
      "e5da3a3c399b4b8f99820104e213a27f",
      "f4ff65f65f8547719d20a62e7fd2d2ae",
      "afd59a3108dd4370ab393150896dac2d"
     ]
    },
    "id": "Np0VPUABbpXD",
    "outputId": "440773fd-63d1-4376-ff69-44273e52b965"
   },
   "outputs": [
    {
     "data": {
      "application/vnd.jupyter.widget-view+json": {
       "model_id": "e13d8124dfb94a61ad4b19f8bc84ec1f",
       "version_major": 2,
       "version_minor": 0
      },
      "text/plain": [
       "Dropdown(description='Team Name', options=('Seoul Dynasty', 'Boston Uprising', 'Toronto Defiant', 'London Spit…"
      ]
     },
     "metadata": {},
     "output_type": "display_data"
    },
    {
     "data": {
      "application/vnd.jupyter.widget-view+json": {
       "model_id": "a99033eaf6114bdf8d2a790c5936dadd",
       "version_major": 2,
       "version_minor": 0
      },
      "text/plain": [
       "Output()"
      ]
     },
     "metadata": {},
     "output_type": "display_data"
    }
   ],
   "source": [
    "out = widgets.Output()\n",
    "\n",
    "\n",
    "def on_team_selection(change):\n",
    "    with out:\n",
    "        clear_output()\n",
    "        team = team_selector.value\n",
    "        team_filter = all_teams_map_data[\"team_name\"] == change[\"new\"]\n",
    "        print(all_teams_map_data[team_filter].to_string(index=False))\n",
    "\n",
    "\n",
    "team_selector = widgets.Dropdown(\n",
    "    options=team_names, value=None, description=\"Team Name\"\n",
    ")\n",
    "display(team_selector)\n",
    "display(out)\n",
    "team_selector.observe(on_team_selection, names=\"value\")"
   ]
  },
  {
   "cell_type": "markdown",
   "metadata": {
    "id": "1XiKBeo2LLDT"
   },
   "source": [
    "If you're curious about a particular team's performance, you can use the above widget to browse how they did on each map."
   ]
  },
  {
   "cell_type": "markdown",
   "metadata": {
    "id": "JupHOOJ1NUUF"
   },
   "source": [
    "# Part 4. A benchmark predictor"
   ]
  },
  {
   "cell_type": "markdown",
   "metadata": {
    "id": "NcEJrXetcECO"
   },
   "source": [
    "Our goal is to create various predictors - models that can take in historical data to predict the result of a future map. \n",
    "\n",
    "To assess the performance of our models fairly we split our dataset into training and test sets. We choose an unusually large fraction, 50% of our data, to be the test set. This is because our models will require very little training, as we will see.\n",
    "\n",
    "We considered using a separate validation set as well, that wouldn't be used when comparing various models, but only used to check the final performance of our chosen best model at the very end. This would guard against overfitting in model selection and hyperparameter tuning. However, since we'll be doing very little hyperparameter tuning, and will only deal with a handful of simple models, we chose against it. This helps make the most of our quite small data set.\n",
    "\n",
    "In addition to guarding against overfitting as usual, the train/test split serves another purpose for us: our data is time series data, and our goal is to predict games late in the season, based on what we learned earlier in the season. By testing all our models on the test set that is the latter half of the season we ensure we don't do something silly, like try to \"predict\" the first games based on what we learned from the last ones."
   ]
  },
  {
   "cell_type": "code",
   "execution_count": 50,
   "metadata": {
    "id": "-pTkuajcO2th"
   },
   "outputs": [],
   "source": [
    "# Set up test-training datasets.\n",
    "test_fraction = 0.5\n",
    "train_fraction = 1 - test_fraction\n",
    "n_games = len(owl21_reduced)\n",
    "n_train = int(np.round(n_games * train_fraction))\n",
    "train_data = owl21_reduced.iloc[:n_train, :]\n",
    "test_data = owl21_reduced.iloc[n_train:, :]\n",
    "n_test = len(test_data)"
   ]
  },
  {
   "cell_type": "markdown",
   "metadata": {
    "id": "35ooiiN_X-rw"
   },
   "source": [
    "### Framework for evaluating predictors\n",
    "\n",
    "We also set up a framework for evaluating different models and for defining predictors. This helps to reduce code duplication, and gives a neat interface for testing model performance."
   ]
  },
  {
   "cell_type": "code",
   "execution_count": 51,
   "metadata": {
    "id": "PCuqDLQBbKk8"
   },
   "outputs": [],
   "source": [
    "def _get_model_rate(model, actual_winners, predictors):\n",
    "    predicted_results = model.predict(predictors)\n",
    "    predicted_winners = predicted_results.loc[:, \"map_winner\"]\n",
    "    correct_predictions = (predicted_winners == actual_winners).sum()\n",
    "    rate = correct_predictions / len(actual_winners)\n",
    "    return rate\n",
    "\n",
    "\n",
    "def train_and_test(train_data, test_data, model_class, *args, **kwargs):\n",
    "    \"\"\"Train and test a model of a given class.\n",
    "\n",
    "    The `model_class` argument should be a class with two methods with signatures\n",
    "    `train(self, train_data)` and `predict(self, predictors)`. `train` should return\n",
    "    `None` and modify the model object in-place to do the training.  `predict` should\n",
    "    return a DataFrame with the same index as `predictors`, and with a column\n",
    "    `\"map_winner\"` that includes the predictions for each game's winner.\n",
    "\n",
    "    Args:\n",
    "      train_data: Training dataset.\n",
    "      test_data: Test dataset to test model performance on.\n",
    "      model_class: A class with `train` and `predict` methods as described above.\n",
    "      *args, **kwargs: Additional arguments are passed to the constructor of\n",
    "        `model_class`. These could be e.g. parameters for the model\n",
    "\n",
    "    Returns:\n",
    "      A dictionary with the following keys:\n",
    "      test_rate: The proportion of games the model predicted correctly in the test set.\n",
    "      train_rate: The proportion of games the model predicted correctly in the training\n",
    "          set.\n",
    "      model: The trained model.\n",
    "    \"\"\"\n",
    "    model = model_class(*args, **kwargs)\n",
    "    model.train(train_data)\n",
    "    test_predictors = test_data.drop(\n",
    "        columns=[\"map_winner\", \"map_loser\"],\n",
    "        errors=\"ignore\",\n",
    "    )\n",
    "    test_winners = test_data.loc[:, \"map_winner\"]\n",
    "    test_rate = _get_model_rate(model, test_winners, test_predictors)\n",
    "    train_predictors = train_data.drop(\n",
    "        columns=[\"map_winner\", \"map_loser\"],\n",
    "        errors=\"ignore\",\n",
    "    )\n",
    "    train_winners = train_data.loc[:, \"map_winner\"]\n",
    "    train_rate = _get_model_rate(model, train_winners, train_predictors)\n",
    "    return {\"test rate\": test_rate, \"train rate\": train_rate, \"model\": model}"
   ]
  },
  {
   "cell_type": "markdown",
   "metadata": {
    "id": "EWGMd0uCQxka"
   },
   "source": [
    "### Guessing predictors\n",
    "\n",
    "To get a sense of how good our predictors are, it is useful to first develop a benchmark predictor. We start with the simplest predictor imaginable: random guessing. We should expect that our actual models will be much more accurate than this one, and that something is going wrong if they are not.\n",
    "\n",
    "Given that we know the result of each map can either be a 'team 1 wins', 'team 2 wins', or 'draw', we can create a benchmark predictor that simply selects one of the above at random as the result of each map."
   ]
  },
  {
   "cell_type": "code",
   "execution_count": 52,
   "metadata": {
    "id": "n5I8squoYMQM"
   },
   "outputs": [],
   "source": [
    "class PureRandomModel:\n",
    "    \"\"\"A model class that predicts the outcome of a game purely at random.\"\"\"\n",
    "\n",
    "    def train(self, train_data):\n",
    "        \"\"\"training does nothing as it is all random!\"\"\"\n",
    "        return None\n",
    "\n",
    "    def _random_predictions(self, team_one, team_two, map_name):\n",
    "        choices = [team_one, team_two, \"draw\"]\n",
    "        victor = random.choice(choices)\n",
    "        return victor\n",
    "\n",
    "    def predict(self, predictors):\n",
    "        \"\"\"Guess the outcome at random.\"\"\"\n",
    "        predictors[\"map_winner\"] = predictors.apply(\n",
    "            lambda x: self._random_predictions(\n",
    "                x[\"team_one_name\"], x[\"team_two_name\"], x[\"map_name\"]\n",
    "            ),\n",
    "            axis=1,\n",
    "        )\n",
    "        return predictors"
   ]
  },
  {
   "cell_type": "code",
   "execution_count": 53,
   "metadata": {
    "colab": {
     "base_uri": "https://localhost:8080/"
    },
    "id": "Sh2IrA-liMyZ",
    "outputId": "17d3d33a-59af-4572-f901-8ccca67b75f9"
   },
   "outputs": [
    {
     "data": {
      "text/plain": [
       "{'test rate': 0.34675615212527966,\n",
       " 'train rate': 0.319910514541387,\n",
       " 'model': <__main__.PureRandomModel at 0x28bcf2ec0>}"
      ]
     },
     "execution_count": 53,
     "metadata": {},
     "output_type": "execute_result"
    }
   ],
   "source": [
    "train_and_test(train_data, test_data, PureRandomModel)"
   ]
  },
  {
   "cell_type": "markdown",
   "metadata": {
    "id": "5fQoH65vAOmM"
   },
   "source": [
    "Try running the above cell a few times - you'll find that the accuracy for the test and training data seems to fluctuate a lot. This is because each time we run the cell, our model guesses randomly, and the dataset isn't quite large enough for the law of large numbers to kick in with force."
   ]
  },
  {
   "cell_type": "markdown",
   "metadata": {
    "id": "iQGggHk4dTUi"
   },
   "source": [
    "The main thing to note is how inaccurate the guessing model is. This is because the pure random distribition is unrealistic - very few games are actually drawn meaning a predictor that guesses a draw 1 in 3 times does not really come close. We retrospectively know that only around 2% of maps were drawn in the 2021 season.\n",
    "\n",
    "We could improve on this by randomly picking between team 1 or team 2 winning, and never predict a draw, although this requires prior knowledge about Overwatch which we were trying to avoid with our simplest imaginable predictor. We could also count the actual proportion of draws in the data and weigh the probabilities proportionally, but this would use future knowledge: the predictor would somehow be using knowledge that there are, say 10 draws by the end of season, to predict whether a match in the middle of the season is a draw. Alternatively we could use the proportion of draws in the previous season.\n",
    "\n",
    "For brevity we won't provide code for the above predictors, but we encourage the reader to experiment with the notebook version of this story and try and write the above predictors themselves. For example, to try the first option you just need to remove `'draw'` from `victors`. This leads to approximately 48% accuracy, which can be considered a lower bound for the modelling we do next: If our accuracy isn't significantly better than that, we aren't doing anything worthwhile. "
   ]
  },
  {
   "cell_type": "markdown",
   "metadata": {
    "id": "KGjg51ytQvQv"
   },
   "source": [
    "# Part 5. Higher win rate predictor"
   ]
  },
  {
   "cell_type": "markdown",
   "metadata": {
    "id": "Y6NixTpdmMIx"
   },
   "source": [
    "Now let's look at something marginally more intelligent by using prior data. Here we create a model that looks at previous wins on a given map:\n",
    "When predicting who will win between TEAM_A and TEAM_B on MAP_C, we look at TEAM_A's win rate on MAP_C and compare it to TEAM_B's win rate on MAP_C. Whoever has the higher win rate will be predicted to win this game.\n",
    "\n",
    "Note that we could also consider in particular previous history of TEAM_A playing against TEAM_B. We tried this approach but found that our data set was too small for that to yield interesting results. Hence we focus on each team's win rate individually."
   ]
  },
  {
   "cell_type": "markdown",
   "metadata": {
    "id": "nk4LFEc8Q0za"
   },
   "source": [
    "We have almost all the data we need for such a predictor in our `all_teams_map_data` dataframe that we used earlier for the exploratory plotting: We have the win rate for each team and map. However, we are dealing with time series data, progressing over the season, so we have to be a bit careful: We don't want to use win rates based on the whole season, including the end part of it, to make predictions on the matches early in the season. Instead, we need the map win rates to be *rolling*, i.e. we need to know the win rate of each team on each map at each point during the season. We compute that below."
   ]
  },
  {
   "cell_type": "code",
   "execution_count": 54,
   "metadata": {
    "colab": {
     "base_uri": "https://localhost:8080/",
     "height": 835
    },
    "id": "GnQy59oqQ4W5",
    "outputId": "8bba2a93-17a7-407a-a238-acbbb2c76a13"
   },
   "outputs": [
    {
     "data": {
      "text/html": [
       "<div>\n",
       "<style scoped>\n",
       "    .dataframe tbody tr th:only-of-type {\n",
       "        vertical-align: middle;\n",
       "    }\n",
       "\n",
       "    .dataframe tbody tr th {\n",
       "        vertical-align: top;\n",
       "    }\n",
       "\n",
       "    .dataframe thead th {\n",
       "        text-align: right;\n",
       "    }\n",
       "</style>\n",
       "<table border=\"1\" class=\"dataframe\">\n",
       "  <thead>\n",
       "    <tr style=\"text-align: right;\">\n",
       "      <th></th>\n",
       "      <th>match_id</th>\n",
       "      <th>map_name</th>\n",
       "      <th>map_winner</th>\n",
       "      <th>map_loser</th>\n",
       "      <th>team_one_name</th>\n",
       "      <th>team_two_name</th>\n",
       "      <th>(Seoul Dynasty, Busan, wins)</th>\n",
       "      <th>(Seoul Dynasty, Busan, losses)</th>\n",
       "      <th>(Seoul Dynasty, King's Row, wins)</th>\n",
       "      <th>(Seoul Dynasty, King's Row, losses)</th>\n",
       "      <th>...</th>\n",
       "      <th>(New York Excelsior, Rialto, wins)</th>\n",
       "      <th>(New York Excelsior, Rialto, losses)</th>\n",
       "      <th>(New York Excelsior, Hollywood, wins)</th>\n",
       "      <th>(New York Excelsior, Hollywood, losses)</th>\n",
       "      <th>(New York Excelsior, Junkertown, wins)</th>\n",
       "      <th>(New York Excelsior, Junkertown, losses)</th>\n",
       "      <th>(New York Excelsior, Route 66, wins)</th>\n",
       "      <th>(New York Excelsior, Route 66, losses)</th>\n",
       "      <th>team_one_winrate</th>\n",
       "      <th>team_two_winrate</th>\n",
       "    </tr>\n",
       "  </thead>\n",
       "  <tbody>\n",
       "    <tr>\n",
       "      <th>0</th>\n",
       "      <td>37234.0</td>\n",
       "      <td>Busan</td>\n",
       "      <td>Houston Outlaws</td>\n",
       "      <td>Dallas Fuel</td>\n",
       "      <td>Houston Outlaws</td>\n",
       "      <td>Dallas Fuel</td>\n",
       "      <td>0.0</td>\n",
       "      <td>0.0</td>\n",
       "      <td>0.0</td>\n",
       "      <td>0.0</td>\n",
       "      <td>...</td>\n",
       "      <td>0.0</td>\n",
       "      <td>0.0</td>\n",
       "      <td>0.0</td>\n",
       "      <td>0.0</td>\n",
       "      <td>0.0</td>\n",
       "      <td>0.0</td>\n",
       "      <td>0.0</td>\n",
       "      <td>0.0</td>\n",
       "      <td>0.500000</td>\n",
       "      <td>0.500000</td>\n",
       "    </tr>\n",
       "    <tr>\n",
       "      <th>1</th>\n",
       "      <td>37234.0</td>\n",
       "      <td>King's Row</td>\n",
       "      <td>Dallas Fuel</td>\n",
       "      <td>Houston Outlaws</td>\n",
       "      <td>Houston Outlaws</td>\n",
       "      <td>Dallas Fuel</td>\n",
       "      <td>0.0</td>\n",
       "      <td>0.0</td>\n",
       "      <td>0.0</td>\n",
       "      <td>0.0</td>\n",
       "      <td>...</td>\n",
       "      <td>0.0</td>\n",
       "      <td>0.0</td>\n",
       "      <td>0.0</td>\n",
       "      <td>0.0</td>\n",
       "      <td>0.0</td>\n",
       "      <td>0.0</td>\n",
       "      <td>0.0</td>\n",
       "      <td>0.0</td>\n",
       "      <td>0.500000</td>\n",
       "      <td>0.500000</td>\n",
       "    </tr>\n",
       "    <tr>\n",
       "      <th>2</th>\n",
       "      <td>37234.0</td>\n",
       "      <td>Havana</td>\n",
       "      <td>Houston Outlaws</td>\n",
       "      <td>Dallas Fuel</td>\n",
       "      <td>Dallas Fuel</td>\n",
       "      <td>Houston Outlaws</td>\n",
       "      <td>0.0</td>\n",
       "      <td>0.0</td>\n",
       "      <td>0.0</td>\n",
       "      <td>0.0</td>\n",
       "      <td>...</td>\n",
       "      <td>0.0</td>\n",
       "      <td>0.0</td>\n",
       "      <td>0.0</td>\n",
       "      <td>0.0</td>\n",
       "      <td>0.0</td>\n",
       "      <td>0.0</td>\n",
       "      <td>0.0</td>\n",
       "      <td>0.0</td>\n",
       "      <td>0.500000</td>\n",
       "      <td>0.500000</td>\n",
       "    </tr>\n",
       "    <tr>\n",
       "      <th>3</th>\n",
       "      <td>37234.0</td>\n",
       "      <td>Volskaya Industries</td>\n",
       "      <td>Dallas Fuel</td>\n",
       "      <td>Houston Outlaws</td>\n",
       "      <td>Houston Outlaws</td>\n",
       "      <td>Dallas Fuel</td>\n",
       "      <td>0.0</td>\n",
       "      <td>0.0</td>\n",
       "      <td>0.0</td>\n",
       "      <td>0.0</td>\n",
       "      <td>...</td>\n",
       "      <td>0.0</td>\n",
       "      <td>0.0</td>\n",
       "      <td>0.0</td>\n",
       "      <td>0.0</td>\n",
       "      <td>0.0</td>\n",
       "      <td>0.0</td>\n",
       "      <td>0.0</td>\n",
       "      <td>0.0</td>\n",
       "      <td>0.500000</td>\n",
       "      <td>0.500000</td>\n",
       "    </tr>\n",
       "    <tr>\n",
       "      <th>4</th>\n",
       "      <td>37234.0</td>\n",
       "      <td>Ilios</td>\n",
       "      <td>Houston Outlaws</td>\n",
       "      <td>Dallas Fuel</td>\n",
       "      <td>Houston Outlaws</td>\n",
       "      <td>Dallas Fuel</td>\n",
       "      <td>0.0</td>\n",
       "      <td>0.0</td>\n",
       "      <td>0.0</td>\n",
       "      <td>0.0</td>\n",
       "      <td>...</td>\n",
       "      <td>0.0</td>\n",
       "      <td>0.0</td>\n",
       "      <td>0.0</td>\n",
       "      <td>0.0</td>\n",
       "      <td>0.0</td>\n",
       "      <td>0.0</td>\n",
       "      <td>0.0</td>\n",
       "      <td>0.0</td>\n",
       "      <td>0.500000</td>\n",
       "      <td>0.500000</td>\n",
       "    </tr>\n",
       "    <tr>\n",
       "      <th>...</th>\n",
       "      <td>...</td>\n",
       "      <td>...</td>\n",
       "      <td>...</td>\n",
       "      <td>...</td>\n",
       "      <td>...</td>\n",
       "      <td>...</td>\n",
       "      <td>...</td>\n",
       "      <td>...</td>\n",
       "      <td>...</td>\n",
       "      <td>...</td>\n",
       "      <td>...</td>\n",
       "      <td>...</td>\n",
       "      <td>...</td>\n",
       "      <td>...</td>\n",
       "      <td>...</td>\n",
       "      <td>...</td>\n",
       "      <td>...</td>\n",
       "      <td>...</td>\n",
       "      <td>...</td>\n",
       "      <td>...</td>\n",
       "      <td>...</td>\n",
       "    </tr>\n",
       "    <tr>\n",
       "      <th>890</th>\n",
       "      <td>37441.0</td>\n",
       "      <td>Ilios</td>\n",
       "      <td>Shanghai Dragons</td>\n",
       "      <td>Atlanta Reign</td>\n",
       "      <td>Atlanta Reign</td>\n",
       "      <td>Shanghai Dragons</td>\n",
       "      <td>6.0</td>\n",
       "      <td>4.0</td>\n",
       "      <td>4.0</td>\n",
       "      <td>1.0</td>\n",
       "      <td>...</td>\n",
       "      <td>1.0</td>\n",
       "      <td>2.0</td>\n",
       "      <td>1.0</td>\n",
       "      <td>2.0</td>\n",
       "      <td>3.0</td>\n",
       "      <td>1.0</td>\n",
       "      <td>1.0</td>\n",
       "      <td>1.0</td>\n",
       "      <td>0.200000</td>\n",
       "      <td>0.769231</td>\n",
       "    </tr>\n",
       "    <tr>\n",
       "      <th>891</th>\n",
       "      <td>37441.0</td>\n",
       "      <td>Hanamura</td>\n",
       "      <td>Shanghai Dragons</td>\n",
       "      <td>Atlanta Reign</td>\n",
       "      <td>Shanghai Dragons</td>\n",
       "      <td>Atlanta Reign</td>\n",
       "      <td>6.0</td>\n",
       "      <td>4.0</td>\n",
       "      <td>4.0</td>\n",
       "      <td>1.0</td>\n",
       "      <td>...</td>\n",
       "      <td>1.0</td>\n",
       "      <td>2.0</td>\n",
       "      <td>1.0</td>\n",
       "      <td>2.0</td>\n",
       "      <td>3.0</td>\n",
       "      <td>1.0</td>\n",
       "      <td>1.0</td>\n",
       "      <td>1.0</td>\n",
       "      <td>0.687500</td>\n",
       "      <td>0.600000</td>\n",
       "    </tr>\n",
       "    <tr>\n",
       "      <th>892</th>\n",
       "      <td>37441.0</td>\n",
       "      <td>King's Row</td>\n",
       "      <td>Shanghai Dragons</td>\n",
       "      <td>Atlanta Reign</td>\n",
       "      <td>Atlanta Reign</td>\n",
       "      <td>Shanghai Dragons</td>\n",
       "      <td>6.0</td>\n",
       "      <td>4.0</td>\n",
       "      <td>4.0</td>\n",
       "      <td>1.0</td>\n",
       "      <td>...</td>\n",
       "      <td>1.0</td>\n",
       "      <td>2.0</td>\n",
       "      <td>1.0</td>\n",
       "      <td>2.0</td>\n",
       "      <td>3.0</td>\n",
       "      <td>1.0</td>\n",
       "      <td>1.0</td>\n",
       "      <td>1.0</td>\n",
       "      <td>0.769231</td>\n",
       "      <td>0.666667</td>\n",
       "    </tr>\n",
       "    <tr>\n",
       "      <th>893</th>\n",
       "      <td>37441.0</td>\n",
       "      <td>Havana</td>\n",
       "      <td>Shanghai Dragons</td>\n",
       "      <td>Atlanta Reign</td>\n",
       "      <td>Shanghai Dragons</td>\n",
       "      <td>Atlanta Reign</td>\n",
       "      <td>6.0</td>\n",
       "      <td>4.0</td>\n",
       "      <td>4.0</td>\n",
       "      <td>1.0</td>\n",
       "      <td>...</td>\n",
       "      <td>1.0</td>\n",
       "      <td>2.0</td>\n",
       "      <td>1.0</td>\n",
       "      <td>2.0</td>\n",
       "      <td>3.0</td>\n",
       "      <td>1.0</td>\n",
       "      <td>1.0</td>\n",
       "      <td>1.0</td>\n",
       "      <td>0.600000</td>\n",
       "      <td>0.333333</td>\n",
       "    </tr>\n",
       "    <tr>\n",
       "      <th>894</th>\n",
       "      <td>NaN</td>\n",
       "      <td>NaN</td>\n",
       "      <td>NaN</td>\n",
       "      <td>NaN</td>\n",
       "      <td>NaN</td>\n",
       "      <td>NaN</td>\n",
       "      <td>6.0</td>\n",
       "      <td>4.0</td>\n",
       "      <td>4.0</td>\n",
       "      <td>1.0</td>\n",
       "      <td>...</td>\n",
       "      <td>1.0</td>\n",
       "      <td>2.0</td>\n",
       "      <td>1.0</td>\n",
       "      <td>2.0</td>\n",
       "      <td>3.0</td>\n",
       "      <td>1.0</td>\n",
       "      <td>1.0</td>\n",
       "      <td>1.0</td>\n",
       "      <td>NaN</td>\n",
       "      <td>NaN</td>\n",
       "    </tr>\n",
       "  </tbody>\n",
       "</table>\n",
       "<p>895 rows × 768 columns</p>\n",
       "</div>"
      ],
      "text/plain": [
       "     match_id             map_name        map_winner        map_loser  \\\n",
       "0     37234.0                Busan   Houston Outlaws      Dallas Fuel   \n",
       "1     37234.0           King's Row       Dallas Fuel  Houston Outlaws   \n",
       "2     37234.0               Havana   Houston Outlaws      Dallas Fuel   \n",
       "3     37234.0  Volskaya Industries       Dallas Fuel  Houston Outlaws   \n",
       "4     37234.0                Ilios   Houston Outlaws      Dallas Fuel   \n",
       "..        ...                  ...               ...              ...   \n",
       "890   37441.0                Ilios  Shanghai Dragons    Atlanta Reign   \n",
       "891   37441.0             Hanamura  Shanghai Dragons    Atlanta Reign   \n",
       "892   37441.0           King's Row  Shanghai Dragons    Atlanta Reign   \n",
       "893   37441.0               Havana  Shanghai Dragons    Atlanta Reign   \n",
       "894       NaN                  NaN               NaN              NaN   \n",
       "\n",
       "        team_one_name     team_two_name  (Seoul Dynasty, Busan, wins)  \\\n",
       "0     Houston Outlaws       Dallas Fuel                           0.0   \n",
       "1     Houston Outlaws       Dallas Fuel                           0.0   \n",
       "2         Dallas Fuel   Houston Outlaws                           0.0   \n",
       "3     Houston Outlaws       Dallas Fuel                           0.0   \n",
       "4     Houston Outlaws       Dallas Fuel                           0.0   \n",
       "..                ...               ...                           ...   \n",
       "890     Atlanta Reign  Shanghai Dragons                           6.0   \n",
       "891  Shanghai Dragons     Atlanta Reign                           6.0   \n",
       "892     Atlanta Reign  Shanghai Dragons                           6.0   \n",
       "893  Shanghai Dragons     Atlanta Reign                           6.0   \n",
       "894               NaN               NaN                           6.0   \n",
       "\n",
       "     (Seoul Dynasty, Busan, losses)  (Seoul Dynasty, King's Row, wins)  \\\n",
       "0                               0.0                                0.0   \n",
       "1                               0.0                                0.0   \n",
       "2                               0.0                                0.0   \n",
       "3                               0.0                                0.0   \n",
       "4                               0.0                                0.0   \n",
       "..                              ...                                ...   \n",
       "890                             4.0                                4.0   \n",
       "891                             4.0                                4.0   \n",
       "892                             4.0                                4.0   \n",
       "893                             4.0                                4.0   \n",
       "894                             4.0                                4.0   \n",
       "\n",
       "     (Seoul Dynasty, King's Row, losses)  ...  \\\n",
       "0                                    0.0  ...   \n",
       "1                                    0.0  ...   \n",
       "2                                    0.0  ...   \n",
       "3                                    0.0  ...   \n",
       "4                                    0.0  ...   \n",
       "..                                   ...  ...   \n",
       "890                                  1.0  ...   \n",
       "891                                  1.0  ...   \n",
       "892                                  1.0  ...   \n",
       "893                                  1.0  ...   \n",
       "894                                  1.0  ...   \n",
       "\n",
       "     (New York Excelsior, Rialto, wins)  (New York Excelsior, Rialto, losses)  \\\n",
       "0                                   0.0                                   0.0   \n",
       "1                                   0.0                                   0.0   \n",
       "2                                   0.0                                   0.0   \n",
       "3                                   0.0                                   0.0   \n",
       "4                                   0.0                                   0.0   \n",
       "..                                  ...                                   ...   \n",
       "890                                 1.0                                   2.0   \n",
       "891                                 1.0                                   2.0   \n",
       "892                                 1.0                                   2.0   \n",
       "893                                 1.0                                   2.0   \n",
       "894                                 1.0                                   2.0   \n",
       "\n",
       "     (New York Excelsior, Hollywood, wins)  \\\n",
       "0                                      0.0   \n",
       "1                                      0.0   \n",
       "2                                      0.0   \n",
       "3                                      0.0   \n",
       "4                                      0.0   \n",
       "..                                     ...   \n",
       "890                                    1.0   \n",
       "891                                    1.0   \n",
       "892                                    1.0   \n",
       "893                                    1.0   \n",
       "894                                    1.0   \n",
       "\n",
       "     (New York Excelsior, Hollywood, losses)  \\\n",
       "0                                        0.0   \n",
       "1                                        0.0   \n",
       "2                                        0.0   \n",
       "3                                        0.0   \n",
       "4                                        0.0   \n",
       "..                                       ...   \n",
       "890                                      2.0   \n",
       "891                                      2.0   \n",
       "892                                      2.0   \n",
       "893                                      2.0   \n",
       "894                                      2.0   \n",
       "\n",
       "     (New York Excelsior, Junkertown, wins)  \\\n",
       "0                                       0.0   \n",
       "1                                       0.0   \n",
       "2                                       0.0   \n",
       "3                                       0.0   \n",
       "4                                       0.0   \n",
       "..                                      ...   \n",
       "890                                     3.0   \n",
       "891                                     3.0   \n",
       "892                                     3.0   \n",
       "893                                     3.0   \n",
       "894                                     3.0   \n",
       "\n",
       "     (New York Excelsior, Junkertown, losses)  \\\n",
       "0                                         0.0   \n",
       "1                                         0.0   \n",
       "2                                         0.0   \n",
       "3                                         0.0   \n",
       "4                                         0.0   \n",
       "..                                        ...   \n",
       "890                                       1.0   \n",
       "891                                       1.0   \n",
       "892                                       1.0   \n",
       "893                                       1.0   \n",
       "894                                       1.0   \n",
       "\n",
       "     (New York Excelsior, Route 66, wins)  \\\n",
       "0                                     0.0   \n",
       "1                                     0.0   \n",
       "2                                     0.0   \n",
       "3                                     0.0   \n",
       "4                                     0.0   \n",
       "..                                    ...   \n",
       "890                                   1.0   \n",
       "891                                   1.0   \n",
       "892                                   1.0   \n",
       "893                                   1.0   \n",
       "894                                   1.0   \n",
       "\n",
       "     (New York Excelsior, Route 66, losses)  team_one_winrate  \\\n",
       "0                                       0.0          0.500000   \n",
       "1                                       0.0          0.500000   \n",
       "2                                       0.0          0.500000   \n",
       "3                                       0.0          0.500000   \n",
       "4                                       0.0          0.500000   \n",
       "..                                      ...               ...   \n",
       "890                                     1.0          0.200000   \n",
       "891                                     1.0          0.687500   \n",
       "892                                     1.0          0.769231   \n",
       "893                                     1.0          0.600000   \n",
       "894                                     1.0               NaN   \n",
       "\n",
       "     team_two_winrate  \n",
       "0            0.500000  \n",
       "1            0.500000  \n",
       "2            0.500000  \n",
       "3            0.500000  \n",
       "4            0.500000  \n",
       "..                ...  \n",
       "890          0.769231  \n",
       "891          0.600000  \n",
       "892          0.666667  \n",
       "893          0.333333  \n",
       "894               NaN  \n",
       "\n",
       "[895 rows x 768 columns]"
      ]
     },
     "execution_count": 54,
     "metadata": {},
     "output_type": "execute_result"
    }
   ],
   "source": [
    "# If the team hasn't played this map we set its win rate to be 0.5. This is a type of\n",
    "# uninformed prior.\n",
    "NO_INFO_PRIOR = 0.5\n",
    "\n",
    "\n",
    "def _compute_win_rate(row, team_name, map_name):\n",
    "    wins = row.loc[[(team_name, map_name, \"wins\")]].iloc[0]\n",
    "    losses = row.loc[[(team_name, map_name, \"losses\")]].iloc[0]\n",
    "    num_played = wins + losses\n",
    "    rate = wins / num_played if num_played > 0 else NO_INFO_PRIOR\n",
    "    return rate\n",
    "\n",
    "\n",
    "def rolling_map_rates(df_full, team_names, map_names):\n",
    "    columns_to_copy = [\n",
    "        \"match_id\",\n",
    "        \"map_name\",\n",
    "        \"map_winner\",\n",
    "        \"map_loser\",\n",
    "        \"team_one_name\",\n",
    "        \"team_two_name\",\n",
    "    ]\n",
    "    df = df_full.loc[:, columns_to_copy].copy()\n",
    "    N_games = len(df)\n",
    "    # We need a column for each 3-tuple of team, map, and win/loss, counting how many\n",
    "    # times that team has won/lost on that map, up to the point in the season indexed by\n",
    "    # the rows.\n",
    "    team_map_tuples = list(itertools.product(team_names, map_names, [\"wins\", \"losses\"]))\n",
    "    initial_column = pd.Series([np.nan] * N_games, index=df.index, dtype=np.float_)\n",
    "    initial_column.iloc[0] = 0\n",
    "    map_rate_columns = pd.concat(\n",
    "        [initial_column.copy() for _ in team_map_tuples],\n",
    "        axis=1,\n",
    "        keys=team_map_tuples,\n",
    "    )\n",
    "    df = pd.concat([df, map_rate_columns], axis=1)\n",
    "    # We also want columns for team1 and team2 map rates for the map that is\n",
    "    # being played.\n",
    "    df[\"team_one_winrate\"] = initial_column.copy()\n",
    "    df[\"team_two_winrate\"] = initial_column.copy()\n",
    "    # When the team has never played the map, we assume it has a 50-50 rate.\n",
    "    df.loc[0, \"team_one_winrate\"] = NO_INFO_PRIOR\n",
    "    df.loc[0, \"team_two_winrate\"] = NO_INFO_PRIOR\n",
    "\n",
    "    for i in df.index:\n",
    "        map_name = df.loc[i, \"map_name\"]\n",
    "        winner = df.loc[i, \"map_winner\"]\n",
    "        loser = df.loc[i, \"map_loser\"]\n",
    "        team1 = df.loc[i, \"team_one_name\"]\n",
    "        team2 = df.loc[i, \"team_two_name\"]\n",
    "        df.loc[i, \"team_one_winrate\"] = _compute_win_rate(df.loc[i, :], team1, map_name)\n",
    "        df.loc[i, \"team_two_winrate\"] = _compute_win_rate(df.loc[i, :], team2, map_name)\n",
    "        # The numbers of wins and losses for each team-map pair are the same as on\n",
    "        # the previous row, except that some get increment by one.\n",
    "        df.loc[i + 1, team_map_tuples] = df.loc[i, team_map_tuples]\n",
    "        if winner != \"draw\":\n",
    "            df.loc[i + 1, [(winner, map_name, \"wins\")]] = (\n",
    "                df.loc[i, [(winner, map_name, \"wins\")]] + 1\n",
    "            )\n",
    "            df.loc[i + 1, [(loser, map_name, \"losses\")]] = (\n",
    "                df.loc[i, [(loser, map_name, \"losses\")]] + 1\n",
    "            )\n",
    "        elif winner == \"draw\":\n",
    "            # We count a draw as half a win and half a loss for both teams.\n",
    "            df.loc[i + 1, [(team1, map_name, \"wins\")]] = (\n",
    "                df.loc[i, [(team1, map_name, \"wins\")]] + 0.5\n",
    "            )\n",
    "            df.loc[i + 1, [(team1, map_name, \"losses\")]] = (\n",
    "                df.loc[i, [(team1, map_name, \"losses\")]] + 0.5\n",
    "            )\n",
    "            df.loc[i + 1, [(team2, map_name, \"wins\")]] = (\n",
    "                df.loc[i, [(team2, map_name, \"wins\")]] + 0.5\n",
    "            )\n",
    "            df.loc[i + 1, [(team2, map_name, \"losses\")]] = (\n",
    "                df.loc[i, [(team2, map_name, \"losses\")]] + 0.5\n",
    "            )\n",
    "\n",
    "    return df\n",
    "\n",
    "\n",
    "df_maprates = rolling_map_rates(owl21_reduced, team_names, map_list)\n",
    "df_maprates"
   ]
  },
  {
   "cell_type": "markdown",
   "metadata": {
    "id": "VGcRxpZ_Q7qe"
   },
   "source": [
    "In this dataframe, on row `i`, the column `(team_name, map_name, outcome)` is the number of times the team `team_name` has won/lost (for `outcome=\"win\"` or `outcome=\"loss\"`) on that map up to that point in the season. This win/loss-count does not include yet the result of the map played on row `i`, that will be included in the win/loss-counts on row `i+1`.\n",
    "\n",
    "We needed to make a couple of non-trivial choices in creating this dataframe:\n",
    "* If a team has never played a map, we consider it to have a win rate of 0.5, as\n",
    "if it had won half of its games.\n",
    "* We count a draw as half a win and half a loss for both teams. This has the nice feature that the sum of wins and losses is the number of games played."
   ]
  },
  {
   "cell_type": "markdown",
   "metadata": {
    "id": "_JT4-wCTQ9dD"
   },
   "source": [
    "We now use this to create a `LargerMapRate` predictor that predicts that the team with better win rate on that map up to that point in the season will win. If the win rates are exactly equal, we guess either win or lose at random. The other reasonable choice would be guessing a draw, but that would result in predicting far too many draws."
   ]
  },
  {
   "cell_type": "code",
   "execution_count": 17,
   "metadata": {
    "id": "Q2MoOJaeQ78Q"
   },
   "outputs": [],
   "source": [
    "class LargerMapRateModel:\n",
    "    \"\"\"A model class that predicts the winner of a game to be the one that had a larger\n",
    "    win rate on the given map. Note that we never predict draws. We could predict a draw\n",
    "    when the rates are exactly equal, but that happens quite often, especially early in\n",
    "    the season, and thus doing so would predict too many draws. It's better to just\n",
    "    guess a winner than predict a draw in those cases.\n",
    "    \"\"\"\n",
    "\n",
    "    def train(self, train_data):\n",
    "        # All the necessary information has been computed already, there isn't any\n",
    "        # training to do.\n",
    "        return None\n",
    "\n",
    "    def predict(self, predictors):\n",
    "        \"\"\"Predict the winner of each game to be the team with the higher win rate\n",
    "        on the given map.\n",
    "        \"\"\"\n",
    "        team1 = predictors[\"team_one_name\"]\n",
    "        team2 = predictors[\"team_two_name\"]\n",
    "        rate1 = predictors[\"team_one_winrate\"]\n",
    "        rate2 = predictors[\"team_two_winrate\"]\n",
    "        coin_flips = np.random.choice([True, False], size=len(team1))\n",
    "        random_winner = team1.where(coin_flips, other=team2)\n",
    "        predictors[\"map_winner\"] = team1.where(\n",
    "            rate1 > rate2, other=team2.where(rate2 > rate1, other=random_winner)\n",
    "        )\n",
    "        return predictors"
   ]
  },
  {
   "cell_type": "code",
   "execution_count": 18,
   "metadata": {
    "colab": {
     "base_uri": "https://localhost:8080/"
    },
    "id": "HaYZ0jvHQ_D8",
    "outputId": "e08be065-698f-42df-ff75-b005c7f6abb8"
   },
   "outputs": [
    {
     "data": {
      "text/plain": [
       "{'test rate': 0.5200892857142857,\n",
       " 'train rate': 0.4854586129753915,\n",
       " 'model': <__main__.LargerMapRateModel at 0x28b818eb0>}"
      ]
     },
     "execution_count": 18,
     "metadata": {},
     "output_type": "execute_result"
    }
   ],
   "source": [
    "train_data = df_maprates.iloc[:n_train, :]\n",
    "test_data = df_maprates.iloc[n_train:, :]\n",
    "train_and_test(train_data, test_data, LargerMapRateModel)"
   ]
  },
  {
   "cell_type": "markdown",
   "metadata": {
    "id": "IhJ-v8C15ZJ1"
   },
   "source": [
    "We seem to be reaching an accuracy of a bit more than 50%. It's hard to say at the moment whether the higher accuracy from this predictor is *significant* compared to our earlier random guessing. We might just be getting lucky. One way to study whether that might be the case is to resample our data, using a technique called [bootstrapping](https://en.wikipedia.org/wiki/Bootstrapping_(statistics)). To do that, we take our `N` games that we are testing our model on, and random sample, with replacement, from it another set of `N` games. Some of the original games may feature in the new, sampled set several times, some may not feature at all. This emulates sampling again from the same probability distribution of games, as if e.g. another, independent season had been played. If we do this resampling procedure `k` times and look at the range of accuracies we get when we run our model, that gives us some idea of how much random variation there is in our results. Let's write a function that does such bootstrapping, that we can reuse."
   ]
  },
  {
   "cell_type": "code",
   "execution_count": 19,
   "metadata": {
    "id": "-QuwJxRwCucc"
   },
   "outputs": [],
   "source": [
    "def train_and_test_bootstrap(train_data, test_data, model_class, k=50):\n",
    "    results = [\n",
    "        train_and_test(\n",
    "            train_data, test_data.sample(frac=1.0, replace=True), model_class\n",
    "        )\n",
    "        for _ in range(k)\n",
    "    ]\n",
    "    train_rate = results[0][\"train rate\"]\n",
    "    test_rates = [r[\"test rate\"] for r in results]\n",
    "    test_rate_mean = np.mean(test_rates)\n",
    "    test_rate_std = np.std(test_rates)\n",
    "    test_rate_percentiles = np.percentile(test_rates, [10, 90])\n",
    "    example_model = results[0][\"model\"]\n",
    "    return {\n",
    "        \"train rate\": train_rate,\n",
    "        \"test rate mean\": test_rate_mean,\n",
    "        \"test rate std\": test_rate_std,\n",
    "        \"test rate 90th percentiles\": test_rate_percentiles,\n",
    "        \"example model\": example_model,\n",
    "    }"
   ]
  },
  {
   "cell_type": "code",
   "execution_count": 20,
   "metadata": {
    "colab": {
     "base_uri": "https://localhost:8080/"
    },
    "id": "THvFAaiWDyoH",
    "outputId": "8201c1ac-ff7a-44c5-9b60-3ab2465f734f"
   },
   "outputs": [
    {
     "data": {
      "text/plain": [
       "{'train rate': 0.4966442953020134,\n",
       " 'test rate mean': 0.5307589285714285,\n",
       " 'test rate std': 0.022698994249161556,\n",
       " 'test rate 90th percentiles': array([0.50647321, 0.55625   ]),\n",
       " 'example model': <__main__.LargerMapRateModel at 0x28b81b970>}"
      ]
     },
     "execution_count": 20,
     "metadata": {},
     "output_type": "execute_result"
    }
   ],
   "source": [
    "train_and_test_bootstrap(train_data, test_data, LargerMapRateModel)"
   ]
  },
  {
   "cell_type": "markdown",
   "metadata": {
    "id": "iVxIlwnIEirg"
   },
   "source": [
    "With 50 iterations of bootstrap the average accuracy we got was 53%, with a standard deviation of 2% and 10th and 90th percentile accuracies of 50% and 56%. This gives us some confidence that we are indeed doing something better than random guessing, though whether our true accuracy (at the limit of infinite data set size) is 51.5% or 55% or something else in that ballpark, we can not say."
   ]
  },
  {
   "cell_type": "markdown",
   "metadata": {
    "id": "Wm7kRmQOFB3q"
   },
   "source": [
    "Note that our use of bootstrap here is quite crude and simple. For one, we are only resampling within the latter half of the season, our test set, mostly to avoid the problem that early in the season win rates are quite meaningless since few games have been played. We can not interpret these numbers directly as something like confidence intervals, but they do give some indication of the level of randomness in our results."
   ]
  },
  {
   "cell_type": "markdown",
   "metadata": {
    "id": "R1ggr55NBfwC"
   },
   "source": [
    "Note also that at this point the whole train/test split is superficial: There's no training happening, and thus no risk of overfitting. In fact, our model performs a bit better on the test set than the training set. This is because the training set includes the early season, when most teams haven't played most maps yet, and we thus don't have any information to base our predictions on."
   ]
  },
  {
   "cell_type": "markdown",
   "metadata": {
    "id": "wWxuO8QtkTu9"
   },
   "source": [
    "# Part 6. Skill based predictor - Elo ratings\n",
    "\n",
    "The map win rate predictor may have been a bit better than random guessing, but it certainly isn't blowing our socks off. Let's now try something more interesting.\n",
    "\n",
    "For competitive games, it is natural to introduce some kind of skill based system, where higher skilled teams are considered more likely to win than lower skilled teams. One such system, originally developed for chess, is called [Elo ratings](https://en.wikipedia.org/wiki/Elo_rating_system). We will use it here."
   ]
  },
  {
   "cell_type": "markdown",
   "metadata": {
    "id": "I-9WP9kN92Du"
   },
   "source": [
    "Each team will begin with an initial Elo rating - here we have chosen to use 1500, but this is an arbitrary choice that doesn't matter. Each time a team wins a game their Elo increases, and each time they lose it decreases. The clever bit is how the _amount_ by which the Elo changes depends on who the game was played against.\n",
    "\n",
    "Whenever a team plays against another team, their respective Elos are compared to create expectation for the match up, where the team with the higher Elo is expected to win. How much the two teams' Elos differ will influence how much the teams will gain / lose Elo based on the result of the match. If team A has a much higher Elo than team B then they are heavily expected to win and will not gain much Elo if they beat team B. If however, they lose to team B in an upset then they will lose a lot of Elo. The Elo ratings are zero-sum, meaning team B will gain / lose the opposite amount.\n",
    "\n",
    "The Elo system has a parameter called k, that sets the variance or the \"learning rate\" of the system. Higher values of k will mean that teams' Elo ratings change quickly based on how well they've done in the last few games, whereas with a low k value the ratings are quite \"rigid\" and change only slowly.\n",
    "\n",
    "Typically when data is low (e.g. with a new team), there is a lot of uncertainty about their skill level so a high k value may be preferable. On the other hand, once a team has played a lot, the model has a fairly accurate view of their skill and a lower k value might be used to avoid overfitting to the last few games. In chess for example, a high k value will be used in low rated tournaments, and a low k value for higher rated tournaments. \n",
    "\n",
    "As it can be difficult to know at what point to vary k we will keep it static throughout this story."
   ]
  },
  {
   "cell_type": "code",
   "execution_count": 21,
   "metadata": {
    "id": "L7zZkjrv2sU_"
   },
   "outputs": [],
   "source": [
    "def expected(A, B):\n",
    "    \"\"\"Expected 'score' for the game, based on the Elo ratings of the participants A and\n",
    "    B. The score is in the range from 0 to 1, and relates to the probability of team A\n",
    "    or team B winning, with score of 0 meaning extreme confidence in A winning and score\n",
    "    of 1 meaning extreme confidence in B winning.\n",
    "    \"\"\"\n",
    "    return 1 / (1 + 10 ** ((B - A) / 400))\n",
    "\n",
    "\n",
    "def elo(old, exp, score, k=32):\n",
    "    \"\"\"New Elo for a team based on their old Elo rating, and expected and actual outcome\n",
    "    of the game.\n",
    "    \"\"\"\n",
    "    return old + k * (score - exp)\n",
    "  \n",
    "INITIAL_ELO = 1500"
   ]
  },
  {
   "cell_type": "markdown",
   "metadata": {
    "id": "Zw428dx9hMjc"
   },
   "source": [
    "Below we compute rolling Elo ratings for all teams at all points of the season, similarly to what we did with map win rates."
   ]
  },
  {
   "cell_type": "code",
   "execution_count": 22,
   "metadata": {
    "id": "w0nnLbK48kds"
   },
   "outputs": [],
   "source": [
    "def rolling_elo(owl21_reduced, team_names):\n",
    "    \"\"\"Make a data frame with one column per team, with values of the ELO rating of each\n",
    "    team at each given moment in the season. The value on row i does not include the\n",
    "    changes to ELO ratings caused by the map played on row i, those will only be\n",
    "    included on row i+1.\n",
    "    \"\"\"\n",
    "    df_elo = owl21_reduced.copy().reset_index().drop(columns=\"index\")\n",
    "    N_games = len(df_elo)\n",
    "    initial_column = pd.Series([np.nan] * N_games, index=df_elo.index, dtype=np.float_)\n",
    "    initial_column.iloc[0] = INITIAL_ELO\n",
    "    for team in team_names:\n",
    "        df_elo[team] = initial_column.copy()\n",
    "    df[\"team_one_elo\"] = initial_column.copy()\n",
    "    df[\"team_two_elo\"] = initial_column.copy()\n",
    "\n",
    "    for i in df_elo.index:\n",
    "        team1 = df_elo.loc[i, \"team_one_name\"]\n",
    "        team2 = df_elo.loc[i, \"team_two_name\"]\n",
    "        elo1_pre = df_elo.loc[i, team1]\n",
    "        elo2_pre = df_elo.loc[i, team2]\n",
    "        df_elo.loc[i, \"team_one_elo\"] = elo1_pre\n",
    "        df_elo.loc[i, \"team_two_elo\"] = elo2_pre\n",
    "        exp1 = expected(elo1_pre, elo2_pre)\n",
    "        exp2 = 1 - exp1\n",
    "        winner = df_elo.loc[i, \"map_winner\"]\n",
    "        if team1 == winner:\n",
    "            score1 = 1\n",
    "        elif team2 == winner:\n",
    "            score1 = 0\n",
    "        elif winner == \"draw\":\n",
    "            score1 = 0.5\n",
    "        else:\n",
    "            raise RuntimeError(\"something went wrong\")\n",
    "        score2 = 1 - score1\n",
    "        elo1_post = elo(elo1_pre, exp1, score1)\n",
    "        elo2_post = elo(elo2_pre, exp2, score2)\n",
    "        df_elo.loc[i + 1, team_names] = df_elo.loc[i, team_names]\n",
    "        df_elo.loc[i + 1, team1] = elo1_post\n",
    "        df_elo.loc[i + 1, team2] = elo2_post\n",
    "    return df_elo"
   ]
  },
  {
   "cell_type": "code",
   "execution_count": 23,
   "metadata": {
    "colab": {
     "base_uri": "https://localhost:8080/",
     "height": 678
    },
    "id": "efIaz0328l9h",
    "outputId": "ecc92273-2174-439d-d873-fbf14551c013"
   },
   "outputs": [
    {
     "data": {
      "text/html": [
       "<div>\n",
       "<style scoped>\n",
       "    .dataframe tbody tr th:only-of-type {\n",
       "        vertical-align: middle;\n",
       "    }\n",
       "\n",
       "    .dataframe tbody tr th {\n",
       "        vertical-align: top;\n",
       "    }\n",
       "\n",
       "    .dataframe thead th {\n",
       "        text-align: right;\n",
       "    }\n",
       "</style>\n",
       "<table border=\"1\" class=\"dataframe\">\n",
       "  <thead>\n",
       "    <tr style=\"text-align: right;\">\n",
       "      <th></th>\n",
       "      <th>match_id</th>\n",
       "      <th>map_winner</th>\n",
       "      <th>map_loser</th>\n",
       "      <th>team_one_name</th>\n",
       "      <th>team_two_name</th>\n",
       "      <th>map_name</th>\n",
       "      <th>Seoul Dynasty</th>\n",
       "      <th>Boston Uprising</th>\n",
       "      <th>Toronto Defiant</th>\n",
       "      <th>London Spitfire</th>\n",
       "      <th>...</th>\n",
       "      <th>Philadelphia Fusion</th>\n",
       "      <th>Shanghai Dragons</th>\n",
       "      <th>Paris Eternal</th>\n",
       "      <th>Los Angeles Valiant</th>\n",
       "      <th>Guangzhou Charge</th>\n",
       "      <th>Houston Outlaws</th>\n",
       "      <th>Vancouver Titans</th>\n",
       "      <th>New York Excelsior</th>\n",
       "      <th>team_one_elo</th>\n",
       "      <th>team_two_elo</th>\n",
       "    </tr>\n",
       "  </thead>\n",
       "  <tbody>\n",
       "    <tr>\n",
       "      <th>0</th>\n",
       "      <td>37234.0</td>\n",
       "      <td>Houston Outlaws</td>\n",
       "      <td>Dallas Fuel</td>\n",
       "      <td>Houston Outlaws</td>\n",
       "      <td>Dallas Fuel</td>\n",
       "      <td>Busan</td>\n",
       "      <td>1500.000000</td>\n",
       "      <td>1500.000000</td>\n",
       "      <td>1500.000000</td>\n",
       "      <td>1500.000000</td>\n",
       "      <td>...</td>\n",
       "      <td>1500.000000</td>\n",
       "      <td>1500.000000</td>\n",
       "      <td>1500.000000</td>\n",
       "      <td>1500.000000</td>\n",
       "      <td>1500.000000</td>\n",
       "      <td>1500.000000</td>\n",
       "      <td>1500.000000</td>\n",
       "      <td>1500.00000</td>\n",
       "      <td>1500.000000</td>\n",
       "      <td>1500.000000</td>\n",
       "    </tr>\n",
       "    <tr>\n",
       "      <th>1</th>\n",
       "      <td>37234.0</td>\n",
       "      <td>Dallas Fuel</td>\n",
       "      <td>Houston Outlaws</td>\n",
       "      <td>Houston Outlaws</td>\n",
       "      <td>Dallas Fuel</td>\n",
       "      <td>King's Row</td>\n",
       "      <td>1500.000000</td>\n",
       "      <td>1500.000000</td>\n",
       "      <td>1500.000000</td>\n",
       "      <td>1500.000000</td>\n",
       "      <td>...</td>\n",
       "      <td>1500.000000</td>\n",
       "      <td>1500.000000</td>\n",
       "      <td>1500.000000</td>\n",
       "      <td>1500.000000</td>\n",
       "      <td>1500.000000</td>\n",
       "      <td>1516.000000</td>\n",
       "      <td>1500.000000</td>\n",
       "      <td>1500.00000</td>\n",
       "      <td>1516.000000</td>\n",
       "      <td>1484.000000</td>\n",
       "    </tr>\n",
       "    <tr>\n",
       "      <th>2</th>\n",
       "      <td>37234.0</td>\n",
       "      <td>Houston Outlaws</td>\n",
       "      <td>Dallas Fuel</td>\n",
       "      <td>Dallas Fuel</td>\n",
       "      <td>Houston Outlaws</td>\n",
       "      <td>Havana</td>\n",
       "      <td>1500.000000</td>\n",
       "      <td>1500.000000</td>\n",
       "      <td>1500.000000</td>\n",
       "      <td>1500.000000</td>\n",
       "      <td>...</td>\n",
       "      <td>1500.000000</td>\n",
       "      <td>1500.000000</td>\n",
       "      <td>1500.000000</td>\n",
       "      <td>1500.000000</td>\n",
       "      <td>1500.000000</td>\n",
       "      <td>1498.530498</td>\n",
       "      <td>1500.000000</td>\n",
       "      <td>1500.00000</td>\n",
       "      <td>1501.469502</td>\n",
       "      <td>1498.530498</td>\n",
       "    </tr>\n",
       "    <tr>\n",
       "      <th>3</th>\n",
       "      <td>37234.0</td>\n",
       "      <td>Dallas Fuel</td>\n",
       "      <td>Houston Outlaws</td>\n",
       "      <td>Houston Outlaws</td>\n",
       "      <td>Dallas Fuel</td>\n",
       "      <td>Volskaya Industries</td>\n",
       "      <td>1500.000000</td>\n",
       "      <td>1500.000000</td>\n",
       "      <td>1500.000000</td>\n",
       "      <td>1500.000000</td>\n",
       "      <td>...</td>\n",
       "      <td>1500.000000</td>\n",
       "      <td>1500.000000</td>\n",
       "      <td>1500.000000</td>\n",
       "      <td>1500.000000</td>\n",
       "      <td>1500.000000</td>\n",
       "      <td>1514.665841</td>\n",
       "      <td>1500.000000</td>\n",
       "      <td>1500.00000</td>\n",
       "      <td>1514.665841</td>\n",
       "      <td>1485.334159</td>\n",
       "    </tr>\n",
       "    <tr>\n",
       "      <th>4</th>\n",
       "      <td>37234.0</td>\n",
       "      <td>Houston Outlaws</td>\n",
       "      <td>Dallas Fuel</td>\n",
       "      <td>Houston Outlaws</td>\n",
       "      <td>Dallas Fuel</td>\n",
       "      <td>Ilios</td>\n",
       "      <td>1500.000000</td>\n",
       "      <td>1500.000000</td>\n",
       "      <td>1500.000000</td>\n",
       "      <td>1500.000000</td>\n",
       "      <td>...</td>\n",
       "      <td>1500.000000</td>\n",
       "      <td>1500.000000</td>\n",
       "      <td>1500.000000</td>\n",
       "      <td>1500.000000</td>\n",
       "      <td>1500.000000</td>\n",
       "      <td>1497.318267</td>\n",
       "      <td>1500.000000</td>\n",
       "      <td>1500.00000</td>\n",
       "      <td>1497.318267</td>\n",
       "      <td>1502.681733</td>\n",
       "    </tr>\n",
       "    <tr>\n",
       "      <th>...</th>\n",
       "      <td>...</td>\n",
       "      <td>...</td>\n",
       "      <td>...</td>\n",
       "      <td>...</td>\n",
       "      <td>...</td>\n",
       "      <td>...</td>\n",
       "      <td>...</td>\n",
       "      <td>...</td>\n",
       "      <td>...</td>\n",
       "      <td>...</td>\n",
       "      <td>...</td>\n",
       "      <td>...</td>\n",
       "      <td>...</td>\n",
       "      <td>...</td>\n",
       "      <td>...</td>\n",
       "      <td>...</td>\n",
       "      <td>...</td>\n",
       "      <td>...</td>\n",
       "      <td>...</td>\n",
       "      <td>...</td>\n",
       "      <td>...</td>\n",
       "    </tr>\n",
       "    <tr>\n",
       "      <th>890</th>\n",
       "      <td>37441.0</td>\n",
       "      <td>Shanghai Dragons</td>\n",
       "      <td>Atlanta Reign</td>\n",
       "      <td>Atlanta Reign</td>\n",
       "      <td>Shanghai Dragons</td>\n",
       "      <td>Ilios</td>\n",
       "      <td>1533.992033</td>\n",
       "      <td>1365.666147</td>\n",
       "      <td>1508.428907</td>\n",
       "      <td>1304.358292</td>\n",
       "      <td>...</td>\n",
       "      <td>1580.871139</td>\n",
       "      <td>1756.568699</td>\n",
       "      <td>1450.904232</td>\n",
       "      <td>1183.216157</td>\n",
       "      <td>1453.558171</td>\n",
       "      <td>1496.310344</td>\n",
       "      <td>1265.125989</td>\n",
       "      <td>1508.20539</td>\n",
       "      <td>1714.071836</td>\n",
       "      <td>1756.568699</td>\n",
       "    </tr>\n",
       "    <tr>\n",
       "      <th>891</th>\n",
       "      <td>37441.0</td>\n",
       "      <td>Shanghai Dragons</td>\n",
       "      <td>Atlanta Reign</td>\n",
       "      <td>Shanghai Dragons</td>\n",
       "      <td>Atlanta Reign</td>\n",
       "      <td>Hanamura</td>\n",
       "      <td>1533.992033</td>\n",
       "      <td>1365.666147</td>\n",
       "      <td>1508.428907</td>\n",
       "      <td>1304.358292</td>\n",
       "      <td>...</td>\n",
       "      <td>1580.871139</td>\n",
       "      <td>1770.621348</td>\n",
       "      <td>1450.904232</td>\n",
       "      <td>1183.216157</td>\n",
       "      <td>1453.558171</td>\n",
       "      <td>1496.310344</td>\n",
       "      <td>1265.125989</td>\n",
       "      <td>1508.20539</td>\n",
       "      <td>1770.621348</td>\n",
       "      <td>1700.019187</td>\n",
       "    </tr>\n",
       "    <tr>\n",
       "      <th>892</th>\n",
       "      <td>37441.0</td>\n",
       "      <td>Shanghai Dragons</td>\n",
       "      <td>Atlanta Reign</td>\n",
       "      <td>Atlanta Reign</td>\n",
       "      <td>Shanghai Dragons</td>\n",
       "      <td>King's Row</td>\n",
       "      <td>1533.992033</td>\n",
       "      <td>1365.666147</td>\n",
       "      <td>1508.428907</td>\n",
       "      <td>1304.358292</td>\n",
       "      <td>...</td>\n",
       "      <td>1580.871139</td>\n",
       "      <td>1783.414025</td>\n",
       "      <td>1450.904232</td>\n",
       "      <td>1183.216157</td>\n",
       "      <td>1453.558171</td>\n",
       "      <td>1496.310344</td>\n",
       "      <td>1265.125989</td>\n",
       "      <td>1508.20539</td>\n",
       "      <td>1687.226510</td>\n",
       "      <td>1783.414025</td>\n",
       "    </tr>\n",
       "    <tr>\n",
       "      <th>893</th>\n",
       "      <td>37441.0</td>\n",
       "      <td>Shanghai Dragons</td>\n",
       "      <td>Atlanta Reign</td>\n",
       "      <td>Shanghai Dragons</td>\n",
       "      <td>Atlanta Reign</td>\n",
       "      <td>Havana</td>\n",
       "      <td>1533.992033</td>\n",
       "      <td>1365.666147</td>\n",
       "      <td>1508.428907</td>\n",
       "      <td>1304.358292</td>\n",
       "      <td>...</td>\n",
       "      <td>1580.871139</td>\n",
       "      <td>1795.094231</td>\n",
       "      <td>1450.904232</td>\n",
       "      <td>1183.216157</td>\n",
       "      <td>1453.558171</td>\n",
       "      <td>1496.310344</td>\n",
       "      <td>1265.125989</td>\n",
       "      <td>1508.20539</td>\n",
       "      <td>1795.094231</td>\n",
       "      <td>1675.546304</td>\n",
       "    </tr>\n",
       "    <tr>\n",
       "      <th>894</th>\n",
       "      <td>NaN</td>\n",
       "      <td>NaN</td>\n",
       "      <td>NaN</td>\n",
       "      <td>NaN</td>\n",
       "      <td>NaN</td>\n",
       "      <td>NaN</td>\n",
       "      <td>1533.992033</td>\n",
       "      <td>1365.666147</td>\n",
       "      <td>1508.428907</td>\n",
       "      <td>1304.358292</td>\n",
       "      <td>...</td>\n",
       "      <td>1580.871139</td>\n",
       "      <td>1805.796297</td>\n",
       "      <td>1450.904232</td>\n",
       "      <td>1183.216157</td>\n",
       "      <td>1453.558171</td>\n",
       "      <td>1496.310344</td>\n",
       "      <td>1265.125989</td>\n",
       "      <td>1508.20539</td>\n",
       "      <td>NaN</td>\n",
       "      <td>NaN</td>\n",
       "    </tr>\n",
       "  </tbody>\n",
       "</table>\n",
       "<p>895 rows × 28 columns</p>\n",
       "</div>"
      ],
      "text/plain": [
       "     match_id        map_winner        map_loser     team_one_name  \\\n",
       "0     37234.0   Houston Outlaws      Dallas Fuel   Houston Outlaws   \n",
       "1     37234.0       Dallas Fuel  Houston Outlaws   Houston Outlaws   \n",
       "2     37234.0   Houston Outlaws      Dallas Fuel       Dallas Fuel   \n",
       "3     37234.0       Dallas Fuel  Houston Outlaws   Houston Outlaws   \n",
       "4     37234.0   Houston Outlaws      Dallas Fuel   Houston Outlaws   \n",
       "..        ...               ...              ...               ...   \n",
       "890   37441.0  Shanghai Dragons    Atlanta Reign     Atlanta Reign   \n",
       "891   37441.0  Shanghai Dragons    Atlanta Reign  Shanghai Dragons   \n",
       "892   37441.0  Shanghai Dragons    Atlanta Reign     Atlanta Reign   \n",
       "893   37441.0  Shanghai Dragons    Atlanta Reign  Shanghai Dragons   \n",
       "894       NaN               NaN              NaN               NaN   \n",
       "\n",
       "        team_two_name             map_name  Seoul Dynasty  Boston Uprising  \\\n",
       "0         Dallas Fuel                Busan    1500.000000      1500.000000   \n",
       "1         Dallas Fuel           King's Row    1500.000000      1500.000000   \n",
       "2     Houston Outlaws               Havana    1500.000000      1500.000000   \n",
       "3         Dallas Fuel  Volskaya Industries    1500.000000      1500.000000   \n",
       "4         Dallas Fuel                Ilios    1500.000000      1500.000000   \n",
       "..                ...                  ...            ...              ...   \n",
       "890  Shanghai Dragons                Ilios    1533.992033      1365.666147   \n",
       "891     Atlanta Reign             Hanamura    1533.992033      1365.666147   \n",
       "892  Shanghai Dragons           King's Row    1533.992033      1365.666147   \n",
       "893     Atlanta Reign               Havana    1533.992033      1365.666147   \n",
       "894               NaN                  NaN    1533.992033      1365.666147   \n",
       "\n",
       "     Toronto Defiant  London Spitfire  ...  Philadelphia Fusion  \\\n",
       "0        1500.000000      1500.000000  ...          1500.000000   \n",
       "1        1500.000000      1500.000000  ...          1500.000000   \n",
       "2        1500.000000      1500.000000  ...          1500.000000   \n",
       "3        1500.000000      1500.000000  ...          1500.000000   \n",
       "4        1500.000000      1500.000000  ...          1500.000000   \n",
       "..               ...              ...  ...                  ...   \n",
       "890      1508.428907      1304.358292  ...          1580.871139   \n",
       "891      1508.428907      1304.358292  ...          1580.871139   \n",
       "892      1508.428907      1304.358292  ...          1580.871139   \n",
       "893      1508.428907      1304.358292  ...          1580.871139   \n",
       "894      1508.428907      1304.358292  ...          1580.871139   \n",
       "\n",
       "     Shanghai Dragons  Paris Eternal  Los Angeles Valiant  Guangzhou Charge  \\\n",
       "0         1500.000000    1500.000000          1500.000000       1500.000000   \n",
       "1         1500.000000    1500.000000          1500.000000       1500.000000   \n",
       "2         1500.000000    1500.000000          1500.000000       1500.000000   \n",
       "3         1500.000000    1500.000000          1500.000000       1500.000000   \n",
       "4         1500.000000    1500.000000          1500.000000       1500.000000   \n",
       "..                ...            ...                  ...               ...   \n",
       "890       1756.568699    1450.904232          1183.216157       1453.558171   \n",
       "891       1770.621348    1450.904232          1183.216157       1453.558171   \n",
       "892       1783.414025    1450.904232          1183.216157       1453.558171   \n",
       "893       1795.094231    1450.904232          1183.216157       1453.558171   \n",
       "894       1805.796297    1450.904232          1183.216157       1453.558171   \n",
       "\n",
       "     Houston Outlaws  Vancouver Titans  New York Excelsior  team_one_elo  \\\n",
       "0        1500.000000       1500.000000          1500.00000   1500.000000   \n",
       "1        1516.000000       1500.000000          1500.00000   1516.000000   \n",
       "2        1498.530498       1500.000000          1500.00000   1501.469502   \n",
       "3        1514.665841       1500.000000          1500.00000   1514.665841   \n",
       "4        1497.318267       1500.000000          1500.00000   1497.318267   \n",
       "..               ...               ...                 ...           ...   \n",
       "890      1496.310344       1265.125989          1508.20539   1714.071836   \n",
       "891      1496.310344       1265.125989          1508.20539   1770.621348   \n",
       "892      1496.310344       1265.125989          1508.20539   1687.226510   \n",
       "893      1496.310344       1265.125989          1508.20539   1795.094231   \n",
       "894      1496.310344       1265.125989          1508.20539           NaN   \n",
       "\n",
       "     team_two_elo  \n",
       "0     1500.000000  \n",
       "1     1484.000000  \n",
       "2     1498.530498  \n",
       "3     1485.334159  \n",
       "4     1502.681733  \n",
       "..            ...  \n",
       "890   1756.568699  \n",
       "891   1700.019187  \n",
       "892   1783.414025  \n",
       "893   1675.546304  \n",
       "894           NaN  \n",
       "\n",
       "[895 rows x 28 columns]"
      ]
     },
     "execution_count": 23,
     "metadata": {},
     "output_type": "execute_result"
    }
   ],
   "source": [
    "df_elo = rolling_elo(owl21_reduced, team_names)\n",
    "df_elo"
   ]
  },
  {
   "cell_type": "markdown",
   "metadata": {
    "id": "Gzb_OrwOhYhZ"
   },
   "source": [
    "The columns in this dataframe that are the names of individual teams are their Elo ratings. To illustrate the development of Elo ratings over the season we plot them."
   ]
  },
  {
   "cell_type": "code",
   "execution_count": 24,
   "metadata": {
    "colab": {
     "base_uri": "https://localhost:8080/",
     "height": 388
    },
    "id": "iOMreQuwGlej",
    "outputId": "7498fe37-b55b-4fbc-ab6a-9a81bca75694"
   },
   "outputs": [
    {
     "data": {
      "image/png": "[encoded data removed]",
      "text/plain": [
       "<Figure size 800x600 with 1 Axes>"
      ]
     },
     "metadata": {},
     "output_type": "display_data"
    }
   ],
   "source": [
    "plt.figure(figsize=(8, 6))\n",
    "plt.plot(df_elo.loc[:, team_names])\n",
    "plt.xlabel(\"Game number\")\n",
    "plt.ylabel(\"Elo rating\")\n",
    "plt.show()"
   ]
  },
  {
   "cell_type": "markdown",
   "metadata": {
    "id": "3PWMDgGyG8OT"
   },
   "source": [
    "Each line is the Elo rating of one team. They all start at 1500, and as games are played teams gain/lose Elo as they win/lose games. The fact that the spread of the ratings is still growing late in the season is an indication that we are limited in the amount of data we have."
   ]
  },
  {
   "cell_type": "markdown",
   "metadata": {
    "id": "60XkNInpGnjT"
   },
   "source": [
    "We split the dataframe of Elo ratings into training and test sets with the same ratio as before, and make a model that always predicts that the team with a higher rating will win."
   ]
  },
  {
   "cell_type": "code",
   "execution_count": 25,
   "metadata": {
    "id": "TiFYuD72i8ZN"
   },
   "outputs": [],
   "source": [
    "elo_train = df_elo.iloc[:n_train, :].copy()\n",
    "elo_test = df_elo.iloc[n_train:, :].copy()"
   ]
  },
  {
   "cell_type": "code",
   "execution_count": 26,
   "metadata": {
    "id": "wQZFMfSh8nKE"
   },
   "outputs": [],
   "source": [
    "class LargerELOModel:\n",
    "    \"\"\"A model class that predicts the winner of a game to be the one that had a larger\n",
    "    ELO rating.\n",
    "    \"\"\"\n",
    "\n",
    "    def train(self, train_data):\n",
    "        # All the necessary information has been computed already, there isn't any\n",
    "        # training to do.\n",
    "        pass\n",
    "\n",
    "    def predict(self, predictors):\n",
    "        \"\"\"Predict the winner of each game to be the team with the higher ELO.\"\"\"\n",
    "        team1 = predictors[\"team_one_name\"]\n",
    "        team2 = predictors[\"team_two_name\"]\n",
    "        elo1 = predictors[\"team_one_elo\"]\n",
    "        elo2 = predictors[\"team_two_elo\"]\n",
    "        predictors[\"map_winner\"] = team1.where(\n",
    "            elo1 > elo2, other=team2.where(elo2 > elo1, other=\"draw\")\n",
    "        )\n",
    "        return predictors"
   ]
  },
  {
   "cell_type": "code",
   "execution_count": 27,
   "metadata": {
    "colab": {
     "base_uri": "https://localhost:8080/"
    },
    "id": "W1NpKu3_FgEw",
    "outputId": "7994d945-30cd-4b10-a996-1af8fe352a0f"
   },
   "outputs": [
    {
     "data": {
      "text/plain": [
       "{'train rate': 0.6062639821029083,\n",
       " 'test rate mean': 0.6227232142857143,\n",
       " 'test rate std': 0.021795089098258367,\n",
       " 'test rate 90th percentiles': array([0.59151786, 0.65      ]),\n",
       " 'example model': <__main__.LargerELOModel at 0x288c47610>}"
      ]
     },
     "execution_count": 27,
     "metadata": {},
     "output_type": "execute_result"
    }
   ],
   "source": [
    "train_and_test_bootstrap(elo_train, elo_test, LargerELOModel)"
   ]
  },
  {
   "cell_type": "markdown",
   "metadata": {
    "id": "LSaCnAqGhxfi"
   },
   "source": [
    "This model clearly outperforms the earlier map win rate based model, reaching an accuracy roughly between 59% and 65%.\n",
    "\n",
    "As an aside, we tried varying the k parameter for the Elo system, and couldn't find a value that would have significantly improved the accuracy we see here. We leave this analysis out of the story, for brevity."
   ]
  },
  {
   "cell_type": "markdown",
   "metadata": {
    "id": "3_hqTwmBzaYO"
   },
   "source": [
    "## Combining Elo and map win rates"
   ]
  },
  {
   "cell_type": "markdown",
   "metadata": {
    "id": "FbyGVAskiKm6"
   },
   "source": [
    "The Elo system is simple, elegant, and evidently quite powerful. However, it feels crude in how it entirely disregards all data about the maps: It's only concerned with who won against who. Perhaps we can improve on it by combining the Elo ratings with the map win rates, and use both for making our predictions? Let's try."
   ]
  },
  {
   "cell_type": "code",
   "execution_count": 28,
   "metadata": {
    "id": "Ppu8per_FhuQ"
   },
   "outputs": [],
   "source": [
    "def combine_elo_and_maprates(df_elo, df_maprates, team_names, map_names):\n",
    "    team_map_pairs = list(itertools.product(team_names, map_names, [\"wins\", \"losses\"]))\n",
    "    df_maprates = df_maprates[team_map_pairs + [\"team_one_winrate\", \"team_two_winrate\"]]\n",
    "    df_elo_maprates = pd.concat(\n",
    "        [df_elo, df_maprates],\n",
    "        axis=1,\n",
    "    )\n",
    "    return df_elo_maprates"
   ]
  },
  {
   "cell_type": "code",
   "execution_count": 29,
   "metadata": {
    "id": "oj39UV1BFixS"
   },
   "outputs": [],
   "source": [
    "def encode_map_winner(df):\n",
    "    team1 = df[\"team_one_name\"]\n",
    "    team2 = df[\"team_two_name\"]\n",
    "    winner = df[\"map_winner\"]\n",
    "    N_games = len(team1)\n",
    "    ones = pd.Series([1] * N_games)\n",
    "    minus_ones = pd.Series([-1] * N_games)\n",
    "    winner_number = ones.where(\n",
    "        winner == team1, other=minus_ones.where(winner == team2, other=0)\n",
    "    )\n",
    "    return winner_number"
   ]
  },
  {
   "cell_type": "code",
   "execution_count": 30,
   "metadata": {
    "colab": {
     "base_uri": "https://localhost:8080/"
    },
    "id": "w4pCGKbcFkDy",
    "outputId": "1ca8ec68-1da3-4bed-9afa-53e1ac40dc0e"
   },
   "outputs": [],
   "source": [
    "df_combined = combine_elo_and_maprates(df_elo, df_maprates, team_names, map_list)\n",
    "df_combined[\"map_winner\"] = encode_map_winner(df_combined)\n",
    "prediction_columns = [\n",
    "    \"map_winner\",\n",
    "    \"team_one_winrate\",\n",
    "    \"team_two_winrate\",\n",
    "    \"team_one_elo\",\n",
    "    \"team_two_elo\",\n",
    "]\n",
    "combined_train = df_combined.loc[:n_train, prediction_columns].copy()\n",
    "combined_test = df_combined.loc[n_train : n_games - 1, prediction_columns].copy()"
   ]
  },
  {
   "cell_type": "markdown",
   "metadata": {
    "id": "xWXcyN4Sn46r"
   },
   "source": [
    "We have combined the rolling Elo numbers and map win rates into a single dataframe. We have also encoded the outcomes of games numerically into a single column, so that `1` means team one won, `-1` means team two won, and `0` means the game was a draw. This allows using various statistical models meant for numerical rather than categorical data."
   ]
  },
  {
   "cell_type": "markdown",
   "metadata": {
    "id": "xM2I_7v_oQ03"
   },
   "source": [
    "Previously we could simply predict that the team with the higher map win rate or higher Elo would win. Now that we use both as predictors, we have to decide how to combine them into a single prediction. Given how simple our predictors are, a natural starting point is a linear model, that models the numerically encoded (1,0, or -1) map winner as a linear combination of the win rates and the Elo scores of both teams. Note that this is the first time that any statistical modelling is happening in this story, and thus the first time that overfitting could in theory become a concern, and we need to actuall use trainining/test split we did in the beginning."
   ]
  },
  {
   "cell_type": "code",
   "execution_count": 31,
   "metadata": {
    "id": "tCuo8NP6FlLF"
   },
   "outputs": [],
   "source": [
    "class LinearClassifier:\n",
    "    def __init__(self):\n",
    "        self.model = linear_model.RidgeClassifier()\n",
    "\n",
    "    def train(self, train_data):\n",
    "        self.model.fit(\n",
    "            train_data.drop(columns=\"map_winner\"),\n",
    "            train_data[\"map_winner\"],\n",
    "        )\n",
    "        return None\n",
    "\n",
    "    def predict(self, predictors):\n",
    "        predictors[\"map_winner\"] = self.model.predict(predictors)\n",
    "        return predictors"
   ]
  },
  {
   "cell_type": "code",
   "execution_count": 32,
   "metadata": {
    "colab": {
     "base_uri": "https://localhost:8080/"
    },
    "id": "2_KZ6AjpFmeB",
    "outputId": "59efb70f-5829-4b17-c3bb-34fe49fbd713"
   },
   "outputs": [
    {
     "data": {
      "text/plain": [
       "{'train rate': 0.6160714285714286,\n",
       " 'test rate mean': 0.6247427293064878,\n",
       " 'test rate std': 0.023144622880005766,\n",
       " 'test rate 90th percentiles': array([0.59932886, 0.6557047 ]),\n",
       " 'example model': <__main__.LinearClassifier at 0x288c206d0>}"
      ]
     },
     "execution_count": 32,
     "metadata": {},
     "output_type": "execute_result"
    }
   ],
   "source": [
    "# Predict who wins using ELO and map win/loss information\n",
    "train_and_test_bootstrap(combined_train, combined_test, LinearClassifier)"
   ]
  },
  {
   "cell_type": "markdown",
   "metadata": {
    "id": "gFQ5F0fipOqC"
   },
   "source": [
    "Combining the Elo and map win rates with a linear model yields a prediction accuracy somewhere around 60% to 66%. It is hard to say that this yields any improvement over only using the Elo data. This is somewhat disappointing; It seems our attempt at using more granular information than just plain Elo is of little help."
   ]
  },
  {
   "cell_type": "markdown",
   "metadata": {
    "id": "sPS4XukUqrAO"
   },
   "source": [
    "One could hypothesise that the issue is that our linear model is too crude and biased for this purpose. We did some experimentation around this, and it seems to not be the case: For instance some support vector machines perform no better."
   ]
  },
  {
   "cell_type": "markdown",
   "metadata": {
    "id": "VLM2RBNc2jJ1"
   },
   "source": [
    "# Part 7: Conclusions"
   ]
  },
  {
   "cell_type": "markdown",
   "metadata": {
    "id": "yvfoVrsEiAqO"
   },
   "source": [
    "We started with the question of whether we can predict outcomes of Overwatch games using data from earlier that same season. The answer seems to be \"yes, to a limited extent\".\n",
    "\n",
    "After trying a simple win rate based model, we settled on using the Elo ratings system, which assigns a skill rating to each team based on who they win and lose against, rewarding more points for winning against highly ranked opponents. This got us to a range where we could correctly predict the outcomes of about 60-65% of the games in the last half of the season. That's substantially better than chance, but it's not overwhelmingly impressive. We hoped to improve on that by adding some map specific information, that would take into account some teams being especially good or bad on particular maps, but failed to improve the prediction accuracy significantly.\n",
    "\n",
    "We of course can not know if some other model or way of doing the predictions would yield better results. However, from toying around with various methods, some of which we left out of the final story, the feeling we were left with is that we are probably close to what can be achieved with our current approach. To improve further we would either try modelling on a more granular scale of individual players, taking into account player transfers within a season, or find another angle of how to utilise map specific data. There is, of course, also a natural limit to how good our predictions can ever be, because there is inherent variation in how individual games go. We may or may not be close to that limit.\n",
    "\n",
    "Overall, we were surprised by how general our analysis turned out to be: In the end the method that we got the most mileage out of were the Elo ratings, which can be applied to almost any game or sport. It's entirely blind to any particular features of Overwatch as a game. This is bad in that it leaves us with the feeling that we didn't understand anything very deep about Overwatch as a game through this analysis, but good in that our above code can be reused almost verbatim on other competitive games.\n",
    "\n",
    "We wrote the bulk of this story in the middle of 2022 and thus ran our analysis on the 2021 season. By the time we were polishing the story for review the 2022 season had finished, so we ran the same analysis on that one too. It's very easy to do by simply changing the file to download and read data from in the very beginning, and we encourage the reader to do it. The main conclusions from 2022 are the same as above with 2021: Map win rate based predictions are still a bit better than chance but not much; Elo ratings yield better predictions than that, though nothing much above 60%; and combining Elo and map win rate isn't much better than just using Elo. The numbers do shift around a bit though, accuracies going up or down by a few percentage points.\n",
    "\n",
    "The most interesting future exploration would be to move from the team-level to the player-level, and try to model the skill levels of the individuals that make up the teams. This would open whole new possibilities of using data from multiple seasons and tracking players across them as they may change teams. This would also enable us to for instance predict the performance of a rebuilt team at the beginning of a season based on who they've added to their roster, or model which teams seem to perform as more or less than the sum of their parts. That, though, is all work for another data story."
   ]
  },
  {
   "cell_type": "markdown",
   "metadata": {
    "id": "XmhQDD5VE9Lv"
   },
   "source": [
    "# END\n",
    "## Below is old content to be discarded before formal review\n"
   ]
  },
  {
   "cell_type": "markdown",
   "metadata": {
    "id": "npbtSa6l5aLN"
   },
   "source": [
    "## Visualising predictive power (To be deleted - most likely)"
   ]
  },
  {
   "cell_type": "markdown",
   "metadata": {
    "id": "N8O5VrIeuJEW"
   },
   "source": [
    "We can in fact study the predictive power of Elo ratings and win rates visually."
   ]
  },
  {
   "cell_type": "code",
   "execution_count": 33,
   "metadata": {
    "colab": {
     "base_uri": "https://localhost:8080/",
     "height": 541
    },
    "id": "QXoxTytYuQzv",
    "outputId": "097c92fa-bd9d-4fd5-9068-0c990d4b9622"
   },
   "outputs": [
    {
     "data": {
      "image/png": "[encoded data removed]",
      "text/plain": [
       "<Figure size 640x480 with 1 Axes>"
      ]
     },
     "metadata": {},
     "output_type": "display_data"
    },
    {
     "data": {
      "image/png": "[encoded data removed]",
      "text/plain": [
       "<Figure size 640x480 with 1 Axes>"
      ]
     },
     "metadata": {},
     "output_type": "display_data"
    }
   ],
   "source": [
    "def plot_elo_and_win_rate_hists(df_combined):\n",
    "  df_plot = pd.DataFrame()\n",
    "  df_plot[\"map_winner\"] = df_combined[\"map_winner\"].apply(lambda x: \"Team 1 win\" if x == 1 else \"Team 2 win\" if x == -1 else \"Draw\")\n",
    "  df_plot[\"elo_diff\"] = df_combined[\"team_one_elo\"] - df_combined[\"team_two_elo\"]\n",
    "  df_plot[\"winrate_diff\"] = df_combined[\"team_one_winrate\"] - df_combined[\"team_two_winrate\"]\n",
    "\n",
    "  for result in df_plot[\"map_winner\"].unique():\n",
    "    tmp = df_plot[df_plot[\"map_winner\"] == result]\n",
    "    plt.hist(tmp[\"elo_diff\"], alpha=0.5, label=result)\n",
    "  plt.xlabel(\"Team 1 Elo minus Team 2 Elo\")\n",
    "  plt.ylabel(\"Number of games\")\n",
    "  plt.legend()\n",
    "  plt.show()\n",
    "\n",
    "  for result in df_plot[\"map_winner\"].unique():\n",
    "    tmp = df_plot[df_plot[\"map_winner\"] == result]\n",
    "    plt.hist(tmp[\"winrate_diff\"], alpha=0.5, label=result)\n",
    "  plt.xlabel(\"Team 1 map win rate minus Team 2 map win rate\")\n",
    "  plt.ylabel(\"Number of games\")\n",
    "  plt.legend()\n",
    "  plt.show()\n",
    "\n",
    "plot_elo_and_win_rate_hists(df_combined)"
   ]
  },
  {
   "cell_type": "markdown",
   "metadata": {
    "id": "5dpQRie8vJFs"
   },
   "source": [
    "The first histogram shows how many games ended in a victory for team 1 (in blue), team 2 (orange), or tie (green), as a function of the difference in the two teams' Elo ratings. On the right of the plot are the games where team 1 had significantly higher Elo and they mostly ended in victories for team 1, conversely for team 2 and the left of the plot. One can easily see from this plot that Elo ratings should have some non-trivial predictive power for game outcomes."
   ]
  },
  {
   "cell_type": "markdown",
   "metadata": {
    "id": "W65XE_Q-z23Q"
   },
   "source": [
    "The second histogram shows the same for map win rates. Games on the right are ones where, going into the game, team 1 had a much better past win rate on this map, conversely for team 2 and the left of the plot. Here the structure in the data, if any, is far less obvious. The most striking feature is the peak in the middle, for all the games where the two teams had equal win rates. This comes mostly from games where neither team had played that map before, which highlights our lack of data."
   ]
  },
  {
   "cell_type": "markdown",
   "metadata": {
    "id": "X1ivjN4H06Kb"
   },
   "source": [
    "So do teams simply not specialise on different maps? We don't know. That might be, or it might be that we simply lack the data to see the effect of that specialisation. It might also be that there are better ways to make use of map specific data than what we've attempted here. For instance, perhaps we should, rather than using simply the percentage of games a team won on this map, compute some sort of map-specific skill score, like an Elo score. This will have to wait for a follow-up data story.\n",
    "\n",
    "One possiblity we did explore, but that didn't make the cut into this story, was to see if using win rates for each team for different map _types_ (Assaul, Control, etc.) rather than individual maps would help our predictions. It was a somewhat useful predictor by itself, but provided no extra benefit when added on top of Elo ratings."
   ]
  },
  {
   "cell_type": "markdown",
   "metadata": {
    "id": "XnQ2gid4IdK8"
   },
   "source": [
    "## Storyline planning:\n",
    "(This is now out of date, but was our original plan)\n",
    "\n",
    "1 - Introduction:\n",
    "  Overwatch, how seasons work, how games work. Set the problem statement here.\n",
    "\n",
    "2 - Let's just explore the data to see what's going on. What are the relevant pieces of data (columns)\n",
    "\n",
    "3 - baseline predictors (optionals)\n",
    "a) The pure guessing strategy\n",
    "b) The win rate strategy\n",
    "\n",
    "4) Elo model\n",
    "What is elo\n",
    "What is the success rate\n",
    "\n",
    "(have we just lucked into this)\n",
    "\n",
    "Resampling and variance (semi short)\n",
    "\n",
    "varying the k in elo\n",
    "\n",
    "5) We haven't used the fact that maps are different yet. Does map win rate make any difference? Do teams have any specialty\n",
    "\n",
    "- map type winrates\n",
    "- linear modelling\n",
    "- throw in some random model to show its possible, and that it is not useful.\n",
    "\n",
    "A useful predictor - but not very useful if we know elo already.\n",
    "\n",
    "6) End, closing remarks - next steps \n",
    "- ties?\n",
    "\n"
   ]
  },
  {
   "cell_type": "markdown",
   "metadata": {
    "id": "d-RiHfCm-pBe"
   },
   "source": [
    "## Overwatch (probably to be deleted)\n",
    "\n",
    "Overwatch is an online team-based multiplayer first-person shooter (FPS) game developed and published by Blizzard Entertainment. The game features several different game modes, principally designed around squad-based combat with two opposing teams of six players each. Matches consist of several games, which in turn may consist of several rounds. Each game is played on a particular map, with each map being of one of four map types.\n",
    "\n",
    "There are 21 maps available for standard gameplay: 5 Assault maps, 6 Escort maps, 5 Hybrid maps, and 5 Control maps. \n",
    "\n",
    "- Assault maps have attacking and defending teams and once the round is complete, the roles are swapped. The attacking team must capture an objective while the defending team must protect it. \n",
    "\n",
    "- Escort maps have attacking and defending teams and once the round is complete, the roles are swapped. The attacking team must escort a payload across the map to an objective, while the defending team aims to stop them.\n",
    "\n",
    "- Hybrid maps are a mixture of Assault and Escort maps and include attacking and defending teams. Once the round is complete, the roles are swapped. If the attacking team is able to capture the objective the game then becomes an escort situation.\n",
    "\n",
    "- Control maps consist of three stages that are like smaller submaps that co-exist in one larger area. Unlike the other standard game modes, both teams are attackers. At the center of the stage is an area that the teams must capture and control. Control maps are by default symmetrical. Since the three stages are all very different from each other, Control maps offer the most variety in team compositions and strategies.\n",
    "\n",
    "## Overwatch League (OWL) (probably to be deleted)\n",
    "\n",
    "The Overwatch League (OWL) is the highest professional esports league for the video game Overwatch, and is owned and run by Blizzard Entertainment. The 2021 OWL featured four midseason tournaments throughout the regular season which used a point system for season playoff seeding. OWL 2021 consisted of 20 teams split into two geographical regions: North America (NA) and Asia (APAC).\n",
    "\n",
    "Each match during the tournaments is a best of 5 (first to 3 wins) played over a map pool particular to the tournament. Each match follows the following order of game modes:\n",
    "* Control\n",
    "* Hybrid\n",
    "* Escort\n",
    "* Assault\n",
    "* Control\n",
    "\n",
    "The first control map is randomly selected, from that point on the losing team selects which map (restricted by game mode) is played next."
   ]
  }
 ],
 "metadata": {
  "colab": {
   "collapsed_sections": [
    "icqBYUn8i_KK",
    "zbRCXsR0A9eW",
    "Mb20m_L9FtOE",
    "npbtSa6l5aLN",
    "XnQ2gid4IdK8",
    "d-RiHfCm-pBe"
   ],
   "provenance": []
  },
  "kernelspec": {
   "display_name": "Python 3 (ipykernel)",
   "language": "python",
   "name": "python3"
  },
  "language_info": {
   "codemirror_mode": {
    "name": "ipython",
    "version": 3
   },
   "file_extension": ".py",
   "mimetype": "text/x-python",
   "name": "python",
   "nbconvert_exporter": "python",
   "pygments_lexer": "ipython3",
   "version": "3.10.9"
  },
  "widgets": {
   "application/vnd.jupyter.widget-state+json": {
    "89d91a44b6794629a3d2bcbd54c5c4ca": {
     "model_module": "@jupyter-widgets/controls",
     "model_module_version": "1.5.0",
     "model_name": "DropdownModel",
     "state": {
      "_dom_classes": [],
      "_model_module": "@jupyter-widgets/controls",
      "_model_module_version": "1.5.0",
      "_model_name": "DropdownModel",
      "_options_labels": [
       "Los Angeles Valiant",
       "Paris Eternal",
       "Shanghai Dragons",
       "London Spitfire",
       "San Francisco Shock",
       "Dallas Fuel",
       "Guangzhou Charge",
       "Washington Justice",
       "Los Angeles Gladiators",
       "New York Excelsior",
       "Atlanta Reign",
       "Vancouver Titans",
       "Florida Mayhem",
       "Chengdu Hunters",
       "Houston Outlaws",
       "Seoul Dynasty",
       "Toronto Defiant",
       "Boston Uprising",
       "Hangzhou Spark",
       "Philadelphia Fusion"
      ],
      "_view_count": null,
      "_view_module": "@jupyter-widgets/controls",
      "_view_module_version": "1.5.0",
      "_view_name": "DropdownView",
      "description": "Team Name",
      "description_tooltip": null,
      "disabled": false,
      "index": 5,
      "layout": "IPY_MODEL_98d2c26d8b564f07a1bd03559a4ae1b4",
      "style": "IPY_MODEL_e5da3a3c399b4b8f99820104e213a27f"
     }
    },
    "98d2c26d8b564f07a1bd03559a4ae1b4": {
     "model_module": "@jupyter-widgets/base",
     "model_module_version": "1.2.0",
     "model_name": "LayoutModel",
     "state": {
      "_model_module": "@jupyter-widgets/base",
      "_model_module_version": "1.2.0",
      "_model_name": "LayoutModel",
      "_view_count": null,
      "_view_module": "@jupyter-widgets/base",
      "_view_module_version": "1.2.0",
      "_view_name": "LayoutView",
      "align_content": null,
      "align_items": null,
      "align_self": null,
      "border": null,
      "bottom": null,
      "display": null,
      "flex": null,
      "flex_flow": null,
      "grid_area": null,
      "grid_auto_columns": null,
      "grid_auto_flow": null,
      "grid_auto_rows": null,
      "grid_column": null,
      "grid_gap": null,
      "grid_row": null,
      "grid_template_areas": null,
      "grid_template_columns": null,
      "grid_template_rows": null,
      "height": null,
      "justify_content": null,
      "justify_items": null,
      "left": null,
      "margin": null,
      "max_height": null,
      "max_width": null,
      "min_height": null,
      "min_width": null,
      "object_fit": null,
      "object_position": null,
      "order": null,
      "overflow": null,
      "overflow_x": null,
      "overflow_y": null,
      "padding": null,
      "right": null,
      "top": null,
      "visibility": null,
      "width": null
     }
    },
    "afd59a3108dd4370ab393150896dac2d": {
     "model_module": "@jupyter-widgets/base",
     "model_module_version": "1.2.0",
     "model_name": "LayoutModel",
     "state": {
      "_model_module": "@jupyter-widgets/base",
      "_model_module_version": "1.2.0",
      "_model_name": "LayoutModel",
      "_view_count": null,
      "_view_module": "@jupyter-widgets/base",
      "_view_module_version": "1.2.0",
      "_view_name": "LayoutView",
      "align_content": null,
      "align_items": null,
      "align_self": null,
      "border": null,
      "bottom": null,
      "display": null,
      "flex": null,
      "flex_flow": null,
      "grid_area": null,
      "grid_auto_columns": null,
      "grid_auto_flow": null,
      "grid_auto_rows": null,
      "grid_column": null,
      "grid_gap": null,
      "grid_row": null,
      "grid_template_areas": null,
      "grid_template_columns": null,
      "grid_template_rows": null,
      "height": null,
      "justify_content": null,
      "justify_items": null,
      "left": null,
      "margin": null,
      "max_height": null,
      "max_width": null,
      "min_height": null,
      "min_width": null,
      "object_fit": null,
      "object_position": null,
      "order": null,
      "overflow": null,
      "overflow_x": null,
      "overflow_y": null,
      "padding": null,
      "right": null,
      "top": null,
      "visibility": null,
      "width": null
     }
    },
    "e5da3a3c399b4b8f99820104e213a27f": {
     "model_module": "@jupyter-widgets/controls",
     "model_module_version": "1.5.0",
     "model_name": "DescriptionStyleModel",
     "state": {
      "_model_module": "@jupyter-widgets/controls",
      "_model_module_version": "1.5.0",
      "_model_name": "DescriptionStyleModel",
      "_view_count": null,
      "_view_module": "@jupyter-widgets/base",
      "_view_module_version": "1.2.0",
      "_view_name": "StyleView",
      "description_width": ""
     }
    },
    "f4ff65f65f8547719d20a62e7fd2d2ae": {
     "model_module": "@jupyter-widgets/output",
     "model_module_version": "1.0.0",
     "model_name": "OutputModel",
     "state": {
      "_dom_classes": [],
      "_model_module": "@jupyter-widgets/output",
      "_model_module_version": "1.0.0",
      "_model_name": "OutputModel",
      "_view_count": null,
      "_view_module": "@jupyter-widgets/output",
      "_view_module_version": "1.0.0",
      "_view_name": "OutputView",
      "layout": "IPY_MODEL_afd59a3108dd4370ab393150896dac2d",
      "msg_id": "",
      "outputs": [
       {
        "name": "stdout",
        "output_type": "stream",
        "text": [
         "  team_name                   map  win_% win draw lose  games_played\n",
         "Dallas Fuel                 Busan 0.6364   7    0    4          11.0\n",
         "Dallas Fuel            King's Row 0.6000   6    0    4          10.0\n",
         "Dallas Fuel                Havana 0.5000   2    0    2           4.0\n",
         "Dallas Fuel   Volskaya Industries 0.8667  13    1    1          15.0\n",
         "Dallas Fuel                 Ilios 0.2857   2    0    5           7.0\n",
         "Dallas Fuel           Eichenwalde 0.5714   4    0    3           7.0\n",
         "Dallas Fuel Watchpoint: Gibraltar 0.7143   5    0    2           7.0\n",
         "Dallas Fuel              Hanamura 0.5000   5    1    4          10.0\n",
         "Dallas Fuel         Lijiang Tower 0.6429   9    0    5          14.0\n",
         "Dallas Fuel        Blizzard World 0.5000   4    0    4           8.0\n",
         "Dallas Fuel                Dorado 0.2000   1    0    4           5.0\n",
         "Dallas Fuel      Temple of Anubis 0.5000   5    2    3          10.0\n",
         "Dallas Fuel                 Oasis 0.6250   5    0    3           8.0\n",
         "Dallas Fuel                 Nepal 0.8750   7    0    1           8.0\n",
         "Dallas Fuel               Numbani 0.5000   3    0    3           6.0\n",
         "Dallas Fuel                Rialto 0.7500   3    0    1           4.0\n",
         "Dallas Fuel             Hollywood 0.5000   2    0    2           4.0\n",
         "Dallas Fuel            Junkertown 0.6000   3    0    2           5.0\n",
         "Dallas Fuel              Route 66 0.0000   0    0    4           4.0\n"
        ]
       }
      ]
     }
    }
   }
  }
 },
 "nbformat": 4,
 "nbformat_minor": 1
}
